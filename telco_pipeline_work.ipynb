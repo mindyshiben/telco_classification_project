{
 "cells": [
  {
   "cell_type": "markdown",
   "id": "beb42f3b",
   "metadata": {},
   "source": [
    "## Planning"
   ]
  },
  {
   "cell_type": "markdown",
   "id": "ebd5ef9c",
   "metadata": {},
   "source": [
    "## Acquisition"
   ]
  },
  {
   "cell_type": "code",
   "execution_count": 1,
   "id": "f1b64936",
   "metadata": {},
   "outputs": [],
   "source": [
    "import pandas as pd\n",
    "import warnings\n",
    "warnings.filterwarnings(\"ignore\")\n",
    "\n",
    "import numpy as np\n",
    "from scipy import stats\n",
    "\n",
    "from pydataset import data\n",
    "\n",
    "from sklearn.tree import DecisionTreeClassifier, plot_tree\n",
    "from sklearn.metrics import classification_report\n",
    "from sklearn.metrics import confusion_matrix\n",
    "from sklearn.ensemble import RandomForestClassifier\n",
    "from sklearn.neighbors import KNeighborsClassifier\n",
    "from sklearn.linear_model import LogisticRegression\n",
    "\n",
    "import matplotlib.pyplot as plt\n",
    "import seaborn as sns\n",
    "import acquire\n",
    "import prepare\n",
    "from prepare import prep_telco"
   ]
  },
  {
   "cell_type": "code",
   "execution_count": 2,
   "id": "f90fe969",
   "metadata": {},
   "outputs": [
    {
     "data": {
      "text/html": [
       "<div>\n",
       "<style scoped>\n",
       "    .dataframe tbody tr th:only-of-type {\n",
       "        vertical-align: middle;\n",
       "    }\n",
       "\n",
       "    .dataframe tbody tr th {\n",
       "        vertical-align: top;\n",
       "    }\n",
       "\n",
       "    .dataframe thead th {\n",
       "        text-align: right;\n",
       "    }\n",
       "</style>\n",
       "<table border=\"1\" class=\"dataframe\">\n",
       "  <thead>\n",
       "    <tr style=\"text-align: right;\">\n",
       "      <th></th>\n",
       "      <th>Unnamed: 0</th>\n",
       "      <th>contract_type_id</th>\n",
       "      <th>payment_type_id</th>\n",
       "      <th>internet_service_type_id</th>\n",
       "      <th>customer_id</th>\n",
       "      <th>gender</th>\n",
       "      <th>senior_citizen</th>\n",
       "      <th>partner</th>\n",
       "      <th>dependents</th>\n",
       "      <th>tenure</th>\n",
       "      <th>...</th>\n",
       "      <th>tech_support</th>\n",
       "      <th>streaming_tv</th>\n",
       "      <th>streaming_movies</th>\n",
       "      <th>paperless_billing</th>\n",
       "      <th>monthly_charges</th>\n",
       "      <th>total_charges</th>\n",
       "      <th>churn</th>\n",
       "      <th>internet_service_type</th>\n",
       "      <th>payment_type</th>\n",
       "      <th>contract_type</th>\n",
       "    </tr>\n",
       "  </thead>\n",
       "  <tbody>\n",
       "    <tr>\n",
       "      <th>0</th>\n",
       "      <td>0</td>\n",
       "      <td>2</td>\n",
       "      <td>2</td>\n",
       "      <td>1</td>\n",
       "      <td>0002-ORFBO</td>\n",
       "      <td>Female</td>\n",
       "      <td>0</td>\n",
       "      <td>Yes</td>\n",
       "      <td>Yes</td>\n",
       "      <td>9</td>\n",
       "      <td>...</td>\n",
       "      <td>Yes</td>\n",
       "      <td>Yes</td>\n",
       "      <td>No</td>\n",
       "      <td>Yes</td>\n",
       "      <td>65.6</td>\n",
       "      <td>593.3</td>\n",
       "      <td>No</td>\n",
       "      <td>DSL</td>\n",
       "      <td>Mailed check</td>\n",
       "      <td>One year</td>\n",
       "    </tr>\n",
       "    <tr>\n",
       "      <th>1</th>\n",
       "      <td>1</td>\n",
       "      <td>1</td>\n",
       "      <td>2</td>\n",
       "      <td>1</td>\n",
       "      <td>0003-MKNFE</td>\n",
       "      <td>Male</td>\n",
       "      <td>0</td>\n",
       "      <td>No</td>\n",
       "      <td>No</td>\n",
       "      <td>9</td>\n",
       "      <td>...</td>\n",
       "      <td>No</td>\n",
       "      <td>No</td>\n",
       "      <td>Yes</td>\n",
       "      <td>No</td>\n",
       "      <td>59.9</td>\n",
       "      <td>542.4</td>\n",
       "      <td>No</td>\n",
       "      <td>DSL</td>\n",
       "      <td>Mailed check</td>\n",
       "      <td>Month-to-month</td>\n",
       "    </tr>\n",
       "    <tr>\n",
       "      <th>2</th>\n",
       "      <td>2</td>\n",
       "      <td>1</td>\n",
       "      <td>1</td>\n",
       "      <td>2</td>\n",
       "      <td>0004-TLHLJ</td>\n",
       "      <td>Male</td>\n",
       "      <td>0</td>\n",
       "      <td>No</td>\n",
       "      <td>No</td>\n",
       "      <td>4</td>\n",
       "      <td>...</td>\n",
       "      <td>No</td>\n",
       "      <td>No</td>\n",
       "      <td>No</td>\n",
       "      <td>Yes</td>\n",
       "      <td>73.9</td>\n",
       "      <td>280.85</td>\n",
       "      <td>Yes</td>\n",
       "      <td>Fiber optic</td>\n",
       "      <td>Electronic check</td>\n",
       "      <td>Month-to-month</td>\n",
       "    </tr>\n",
       "    <tr>\n",
       "      <th>3</th>\n",
       "      <td>3</td>\n",
       "      <td>1</td>\n",
       "      <td>1</td>\n",
       "      <td>2</td>\n",
       "      <td>0011-IGKFF</td>\n",
       "      <td>Male</td>\n",
       "      <td>1</td>\n",
       "      <td>Yes</td>\n",
       "      <td>No</td>\n",
       "      <td>13</td>\n",
       "      <td>...</td>\n",
       "      <td>No</td>\n",
       "      <td>Yes</td>\n",
       "      <td>Yes</td>\n",
       "      <td>Yes</td>\n",
       "      <td>98.0</td>\n",
       "      <td>1237.85</td>\n",
       "      <td>Yes</td>\n",
       "      <td>Fiber optic</td>\n",
       "      <td>Electronic check</td>\n",
       "      <td>Month-to-month</td>\n",
       "    </tr>\n",
       "    <tr>\n",
       "      <th>4</th>\n",
       "      <td>4</td>\n",
       "      <td>1</td>\n",
       "      <td>2</td>\n",
       "      <td>2</td>\n",
       "      <td>0013-EXCHZ</td>\n",
       "      <td>Female</td>\n",
       "      <td>1</td>\n",
       "      <td>Yes</td>\n",
       "      <td>No</td>\n",
       "      <td>3</td>\n",
       "      <td>...</td>\n",
       "      <td>Yes</td>\n",
       "      <td>Yes</td>\n",
       "      <td>No</td>\n",
       "      <td>Yes</td>\n",
       "      <td>83.9</td>\n",
       "      <td>267.4</td>\n",
       "      <td>Yes</td>\n",
       "      <td>Fiber optic</td>\n",
       "      <td>Mailed check</td>\n",
       "      <td>Month-to-month</td>\n",
       "    </tr>\n",
       "  </tbody>\n",
       "</table>\n",
       "<p>5 rows × 25 columns</p>\n",
       "</div>"
      ],
      "text/plain": [
       "   Unnamed: 0  contract_type_id  payment_type_id  internet_service_type_id  \\\n",
       "0           0                 2                2                         1   \n",
       "1           1                 1                2                         1   \n",
       "2           2                 1                1                         2   \n",
       "3           3                 1                1                         2   \n",
       "4           4                 1                2                         2   \n",
       "\n",
       "  customer_id  gender  senior_citizen partner dependents  tenure  ...  \\\n",
       "0  0002-ORFBO  Female               0     Yes        Yes       9  ...   \n",
       "1  0003-MKNFE    Male               0      No         No       9  ...   \n",
       "2  0004-TLHLJ    Male               0      No         No       4  ...   \n",
       "3  0011-IGKFF    Male               1     Yes         No      13  ...   \n",
       "4  0013-EXCHZ  Female               1     Yes         No       3  ...   \n",
       "\n",
       "  tech_support streaming_tv streaming_movies paperless_billing  \\\n",
       "0          Yes          Yes               No               Yes   \n",
       "1           No           No              Yes                No   \n",
       "2           No           No               No               Yes   \n",
       "3           No          Yes              Yes               Yes   \n",
       "4          Yes          Yes               No               Yes   \n",
       "\n",
       "  monthly_charges total_charges churn internet_service_type      payment_type  \\\n",
       "0            65.6         593.3    No                   DSL      Mailed check   \n",
       "1            59.9         542.4    No                   DSL      Mailed check   \n",
       "2            73.9        280.85   Yes           Fiber optic  Electronic check   \n",
       "3            98.0       1237.85   Yes           Fiber optic  Electronic check   \n",
       "4            83.9         267.4   Yes           Fiber optic      Mailed check   \n",
       "\n",
       "    contract_type  \n",
       "0        One year  \n",
       "1  Month-to-month  \n",
       "2  Month-to-month  \n",
       "3  Month-to-month  \n",
       "4  Month-to-month  \n",
       "\n",
       "[5 rows x 25 columns]"
      ]
     },
     "execution_count": 2,
     "metadata": {},
     "output_type": "execute_result"
    }
   ],
   "source": [
    "df = acquire.get_telco_data()\n",
    "df.head()"
   ]
  },
  {
   "cell_type": "markdown",
   "id": "88d7d80e",
   "metadata": {},
   "source": [
    "what columns do we have?\n",
    "\n",
    "Unnamed: 0                    int64 <br>\n",
    "    -this is the unique id with 7043 unique values. will need this later for .csv, but will drop in preparation for now <br>\n",
    "    \n",
    "contract_type_id              int64 <br>\n",
    "    -there are 3 contract types here that are represented numerically <br>\n",
    "        1 - month to month contract <br>\n",
    "        2 - 1 year contract <br>\n",
    "        3 - 2 year contract <br>\n",
    "        \n",
    "payment_type_id               int64 <br>\n",
    "    -there are 4 types of payments that are represented numerically <br>\n",
    "        1 - electronic check <br>\n",
    "        2 - mailed check <br>\n",
    "        3 - bank transfer <br>\n",
    "        4 - credit card (automatic) <br>\n",
    "        \n",
    "internet_service_type_id      int64 <br>\n",
    "    -there are 3 types of internet service that are represented numerically <br>\n",
    "        1 - DSL <br>\n",
    "        2 - fiber optic <br>\n",
    "        3 - no internet service <br>\n",
    "    \n",
    "customer_id                  object <br>\n",
    "    -there are 7043 customer ids each representing a unique customer <br>\n",
    "    \n",
    "gender                       object <br>\n",
    "    - there are two gender types \"male\" and \"female\" <br>\n",
    "    \n",
    "senior_citizen                int64 <br>\n",
    "    - senior citizens are represented numerically <br>\n",
    "        1 - is a senior citizen <br>\n",
    "        0 - is not a senior citizen <br>\n",
    "    \n",
    "partner                      object <br>\n",
    "    - whether or not the customer has a partner is represented by \"No\" and \"Yes\" <br>\n",
    "        \n",
    "dependents                   object <br>\n",
    "     - whether or not the customer has dependent(s) is represented by \"No\" and \"Yes\" <br>\n",
    "     \n",
    "tenure                        int64 <br>\n",
    "    - customer tenure is represented numerically in the amount of months a customer has been at Telco <br>\n",
    "    \n",
    "phone_service                object <br>\n",
    "    - whether or not the customer has phone service is represented by \"No\" and \"Yes\" <br>\n",
    "    \n",
    "multiple_lines               object <br>\n",
    "    - whether or not the customer has multiple lines is represented by \"No\", \"Yes\", and \"No phone service\" <br>\n",
    "    \n",
    "online_security              object <br>\n",
    "    - whether or not the customer has online sercurity is represented by \"No\", \"Yes\", and \"No internet service\" <br>\n",
    "    \n",
    "online_backup                object <br>\n",
    "    - whether or not the customer has online backup is represented by \"No\", \"Yes\", and \"No internet service\" <br>\n",
    "    \n",
    "device_protection            object <br>\n",
    "    - whether or not the customer has device protection is represented by \"No\", \"Yes\", and \"No internet service\" <br>\n",
    "    \n",
    "tech_support                 object <br>\n",
    "    - whether or not the customer has tech support is represented by \"No\", \"Yes\", and \"No internet service\" <br>\n",
    "    \n",
    "streaming_tv                 object <br>\n",
    "    - whether or not the customer has tv streaming is represented by \"No\", \"Yes\", and \"No internet service\" <br>\n",
    "    \n",
    "streaming_movies             object <br>\n",
    "    - whether or not the customer has movie streaming is represented by \"No\", \"Yes\", and \"No internet service\" <br>\n",
    "\n",
    "paperless_billing            object <br>\n",
    "    - whether or not the customer has paperless billing is represented by \"No\" and \"Yes\" <br>\n",
    "    \n",
    "monthly_charges             float64 <br>\n",
    "    - the customer's average monthly charges is represented numerically\n",
    "    \n",
    "total_charges                object <br>\n",
    "    - the customer's all time charges is represented as an object data type, but can be viewed numerically <br>\n",
    "    \n",
    "churn                        object <br>\n",
    "    - whether or not a customer has churned is represented by \"Yes\" and \"No\" <br>\n",
    "    \n",
    "internet_service_type        object <br>\n",
    "    - there are 3 internet service options: \"Fiber optic\", \"DSL\", and \"None\" <br>\n",
    "    \n",
    "payment_type                 object <br>\n",
    "    - there are 4 payment methods: <br>\n",
    "    \"Electronic check\", \"Mailed check\", \"Bank transfer (automatic)\", \"Credit card (automatic)\" <br>\n",
    "    \n",
    "contract_type                object <br>\n",
    "    - there are 3 contract types:\n",
    "        \"Month-to-month\", \"Two year\", \"One year\"\n",
    "    "
   ]
  },
  {
   "cell_type": "code",
   "execution_count": 3,
   "id": "31a7441e",
   "metadata": {},
   "outputs": [
    {
     "data": {
      "text/plain": [
       "Unnamed: 0                    int64\n",
       "contract_type_id              int64\n",
       "payment_type_id               int64\n",
       "internet_service_type_id      int64\n",
       "customer_id                  object\n",
       "gender                       object\n",
       "senior_citizen                int64\n",
       "partner                      object\n",
       "dependents                   object\n",
       "tenure                        int64\n",
       "phone_service                object\n",
       "multiple_lines               object\n",
       "online_security              object\n",
       "online_backup                object\n",
       "device_protection            object\n",
       "tech_support                 object\n",
       "streaming_tv                 object\n",
       "streaming_movies             object\n",
       "paperless_billing            object\n",
       "monthly_charges             float64\n",
       "total_charges                object\n",
       "churn                        object\n",
       "internet_service_type        object\n",
       "payment_type                 object\n",
       "contract_type                object\n",
       "dtype: object"
      ]
     },
     "execution_count": 3,
     "metadata": {},
     "output_type": "execute_result"
    }
   ],
   "source": [
    "df.dtypes"
   ]
  },
  {
   "cell_type": "code",
   "execution_count": 4,
   "id": "92c8ad12",
   "metadata": {},
   "outputs": [
    {
     "data": {
      "text/plain": [
       "7043"
      ]
     },
     "execution_count": 4,
     "metadata": {},
     "output_type": "execute_result"
    }
   ],
   "source": [
    "df['Unnamed: 0'].nunique()"
   ]
  },
  {
   "cell_type": "code",
   "execution_count": 5,
   "id": "af67ac11",
   "metadata": {},
   "outputs": [
    {
     "data": {
      "text/plain": [
       "1    3875\n",
       "3    1695\n",
       "2    1473\n",
       "Name: contract_type_id, dtype: int64"
      ]
     },
     "execution_count": 5,
     "metadata": {},
     "output_type": "execute_result"
    }
   ],
   "source": [
    "df['contract_type_id'].value_counts()"
   ]
  },
  {
   "cell_type": "code",
   "execution_count": 6,
   "id": "1e51d09b",
   "metadata": {},
   "outputs": [
    {
     "data": {
      "text/plain": [
       "1    2365\n",
       "2    1612\n",
       "3    1544\n",
       "4    1522\n",
       "Name: payment_type_id, dtype: int64"
      ]
     },
     "execution_count": 6,
     "metadata": {},
     "output_type": "execute_result"
    }
   ],
   "source": [
    "df['payment_type_id'].value_counts()"
   ]
  },
  {
   "cell_type": "code",
   "execution_count": 7,
   "id": "11f64fd8",
   "metadata": {},
   "outputs": [
    {
     "data": {
      "text/plain": [
       "2    3096\n",
       "1    2421\n",
       "3    1526\n",
       "Name: internet_service_type_id, dtype: int64"
      ]
     },
     "execution_count": 7,
     "metadata": {},
     "output_type": "execute_result"
    }
   ],
   "source": [
    "df['internet_service_type_id'].value_counts()"
   ]
  },
  {
   "cell_type": "code",
   "execution_count": 8,
   "id": "51d57375",
   "metadata": {},
   "outputs": [
    {
     "data": {
      "text/plain": [
       "7043"
      ]
     },
     "execution_count": 8,
     "metadata": {},
     "output_type": "execute_result"
    }
   ],
   "source": [
    "len(df['customer_id'])"
   ]
  },
  {
   "cell_type": "code",
   "execution_count": 9,
   "id": "ad22acbf",
   "metadata": {},
   "outputs": [
    {
     "data": {
      "text/plain": [
       "Male      3555\n",
       "Female    3488\n",
       "Name: gender, dtype: int64"
      ]
     },
     "execution_count": 9,
     "metadata": {},
     "output_type": "execute_result"
    }
   ],
   "source": [
    "df.gender.value_counts()"
   ]
  },
  {
   "cell_type": "code",
   "execution_count": 10,
   "id": "41a7d834",
   "metadata": {},
   "outputs": [
    {
     "data": {
      "text/plain": [
       "0    5901\n",
       "1    1142\n",
       "Name: senior_citizen, dtype: int64"
      ]
     },
     "execution_count": 10,
     "metadata": {},
     "output_type": "execute_result"
    }
   ],
   "source": [
    "df.senior_citizen.value_counts()"
   ]
  },
  {
   "cell_type": "code",
   "execution_count": 11,
   "id": "7f2bb8f1",
   "metadata": {},
   "outputs": [
    {
     "data": {
      "text/plain": [
       "No     3641\n",
       "Yes    3402\n",
       "Name: partner, dtype: int64"
      ]
     },
     "execution_count": 11,
     "metadata": {},
     "output_type": "execute_result"
    }
   ],
   "source": [
    "df.partner.value_counts()"
   ]
  },
  {
   "cell_type": "code",
   "execution_count": 12,
   "id": "993f87e2",
   "metadata": {},
   "outputs": [
    {
     "data": {
      "text/plain": [
       "No     4933\n",
       "Yes    2110\n",
       "Name: dependents, dtype: int64"
      ]
     },
     "execution_count": 12,
     "metadata": {},
     "output_type": "execute_result"
    }
   ],
   "source": [
    "df.dependents.value_counts()"
   ]
  },
  {
   "cell_type": "code",
   "execution_count": 13,
   "id": "472ceaab",
   "metadata": {},
   "outputs": [
    {
     "data": {
      "text/plain": [
       "0     9\n",
       "1     9\n",
       "2     4\n",
       "3    13\n",
       "4     3\n",
       "Name: tenure, dtype: int64"
      ]
     },
     "execution_count": 13,
     "metadata": {},
     "output_type": "execute_result"
    }
   ],
   "source": [
    "df.tenure.head()"
   ]
  },
  {
   "cell_type": "code",
   "execution_count": 14,
   "id": "3aee8f3b",
   "metadata": {},
   "outputs": [
    {
     "data": {
      "text/plain": [
       "Yes    6361\n",
       "No      682\n",
       "Name: phone_service, dtype: int64"
      ]
     },
     "execution_count": 14,
     "metadata": {},
     "output_type": "execute_result"
    }
   ],
   "source": [
    "df.phone_service.value_counts()"
   ]
  },
  {
   "cell_type": "code",
   "execution_count": 15,
   "id": "a5d115c1",
   "metadata": {},
   "outputs": [
    {
     "data": {
      "text/plain": [
       "No                  3390\n",
       "Yes                 2971\n",
       "No phone service     682\n",
       "Name: multiple_lines, dtype: int64"
      ]
     },
     "execution_count": 15,
     "metadata": {},
     "output_type": "execute_result"
    }
   ],
   "source": [
    "df.multiple_lines.value_counts()"
   ]
  },
  {
   "cell_type": "code",
   "execution_count": 16,
   "id": "0c4c8f36",
   "metadata": {},
   "outputs": [
    {
     "data": {
      "text/plain": [
       "No                     3498\n",
       "Yes                    2019\n",
       "No internet service    1526\n",
       "Name: online_security, dtype: int64"
      ]
     },
     "execution_count": 16,
     "metadata": {},
     "output_type": "execute_result"
    }
   ],
   "source": [
    "df.online_security.value_counts()"
   ]
  },
  {
   "cell_type": "code",
   "execution_count": 17,
   "id": "3214adf6",
   "metadata": {},
   "outputs": [
    {
     "data": {
      "text/plain": [
       "No                     3088\n",
       "Yes                    2429\n",
       "No internet service    1526\n",
       "Name: online_backup, dtype: int64"
      ]
     },
     "execution_count": 17,
     "metadata": {},
     "output_type": "execute_result"
    }
   ],
   "source": [
    "df.online_backup.value_counts()"
   ]
  },
  {
   "cell_type": "code",
   "execution_count": 18,
   "id": "e7c11743",
   "metadata": {},
   "outputs": [
    {
     "data": {
      "text/plain": [
       "No                     3095\n",
       "Yes                    2422\n",
       "No internet service    1526\n",
       "Name: device_protection, dtype: int64"
      ]
     },
     "execution_count": 18,
     "metadata": {},
     "output_type": "execute_result"
    }
   ],
   "source": [
    "df.device_protection.value_counts()"
   ]
  },
  {
   "cell_type": "code",
   "execution_count": 19,
   "id": "6f81432a",
   "metadata": {},
   "outputs": [
    {
     "data": {
      "text/plain": [
       "No                     3473\n",
       "Yes                    2044\n",
       "No internet service    1526\n",
       "Name: tech_support, dtype: int64"
      ]
     },
     "execution_count": 19,
     "metadata": {},
     "output_type": "execute_result"
    }
   ],
   "source": [
    "df.tech_support.value_counts()"
   ]
  },
  {
   "cell_type": "code",
   "execution_count": 20,
   "id": "ec2114fc",
   "metadata": {},
   "outputs": [
    {
     "data": {
      "text/plain": [
       "No                     2810\n",
       "Yes                    2707\n",
       "No internet service    1526\n",
       "Name: streaming_tv, dtype: int64"
      ]
     },
     "execution_count": 20,
     "metadata": {},
     "output_type": "execute_result"
    }
   ],
   "source": [
    "df.streaming_tv.value_counts()"
   ]
  },
  {
   "cell_type": "code",
   "execution_count": 21,
   "id": "f66447f7",
   "metadata": {},
   "outputs": [
    {
     "data": {
      "text/plain": [
       "No                     2785\n",
       "Yes                    2732\n",
       "No internet service    1526\n",
       "Name: streaming_movies, dtype: int64"
      ]
     },
     "execution_count": 21,
     "metadata": {},
     "output_type": "execute_result"
    }
   ],
   "source": [
    "df.streaming_movies.value_counts()"
   ]
  },
  {
   "cell_type": "code",
   "execution_count": 22,
   "id": "29dd999d",
   "metadata": {},
   "outputs": [
    {
     "data": {
      "text/plain": [
       "Yes    4171\n",
       "No     2872\n",
       "Name: paperless_billing, dtype: int64"
      ]
     },
     "execution_count": 22,
     "metadata": {},
     "output_type": "execute_result"
    }
   ],
   "source": [
    "df.paperless_billing.value_counts()"
   ]
  },
  {
   "cell_type": "code",
   "execution_count": 23,
   "id": "9b647b65",
   "metadata": {},
   "outputs": [
    {
     "data": {
      "text/plain": [
       "0      65.60\n",
       "1      59.90\n",
       "2      73.90\n",
       "3      98.00\n",
       "4      83.90\n",
       "5      69.40\n",
       "6     109.70\n",
       "7      84.65\n",
       "8      48.20\n",
       "9      90.45\n",
       "10     45.20\n",
       "11    116.80\n",
       "12     68.95\n",
       "13    101.30\n",
       "14     45.05\n",
       "15     95.75\n",
       "16     61.25\n",
       "17     72.10\n",
       "18     62.70\n",
       "19     25.10\n",
       "Name: monthly_charges, dtype: float64"
      ]
     },
     "execution_count": 23,
     "metadata": {},
     "output_type": "execute_result"
    }
   ],
   "source": [
    "df.monthly_charges.head(20)"
   ]
  },
  {
   "cell_type": "code",
   "execution_count": 24,
   "id": "f9686e45",
   "metadata": {},
   "outputs": [
    {
     "data": {
      "text/plain": [
       "0      593.3\n",
       "1      542.4\n",
       "2     280.85\n",
       "3    1237.85\n",
       "4      267.4\n",
       "Name: total_charges, dtype: object"
      ]
     },
     "execution_count": 24,
     "metadata": {},
     "output_type": "execute_result"
    }
   ],
   "source": [
    "df.total_charges.head()"
   ]
  },
  {
   "cell_type": "code",
   "execution_count": 25,
   "id": "05004ad3",
   "metadata": {},
   "outputs": [
    {
     "data": {
      "text/plain": [
       "No     5174\n",
       "Yes    1869\n",
       "Name: churn, dtype: int64"
      ]
     },
     "execution_count": 25,
     "metadata": {},
     "output_type": "execute_result"
    }
   ],
   "source": [
    "df.churn.value_counts()"
   ]
  },
  {
   "cell_type": "code",
   "execution_count": 26,
   "id": "f6e022e4",
   "metadata": {},
   "outputs": [
    {
     "data": {
      "text/plain": [
       "Fiber optic    3096\n",
       "DSL            2421\n",
       "None           1526\n",
       "Name: internet_service_type, dtype: int64"
      ]
     },
     "execution_count": 26,
     "metadata": {},
     "output_type": "execute_result"
    }
   ],
   "source": [
    "df.internet_service_type.value_counts()"
   ]
  },
  {
   "cell_type": "code",
   "execution_count": 27,
   "id": "30a22577",
   "metadata": {},
   "outputs": [
    {
     "data": {
      "text/plain": [
       "Electronic check             2365\n",
       "Mailed check                 1612\n",
       "Bank transfer (automatic)    1544\n",
       "Credit card (automatic)      1522\n",
       "Name: payment_type, dtype: int64"
      ]
     },
     "execution_count": 27,
     "metadata": {},
     "output_type": "execute_result"
    }
   ],
   "source": [
    "df.payment_type.value_counts()"
   ]
  },
  {
   "cell_type": "code",
   "execution_count": 28,
   "id": "8240a104",
   "metadata": {},
   "outputs": [
    {
     "data": {
      "text/plain": [
       "Month-to-month    3875\n",
       "Two year          1695\n",
       "One year          1473\n",
       "Name: contract_type, dtype: int64"
      ]
     },
     "execution_count": 28,
     "metadata": {},
     "output_type": "execute_result"
    }
   ],
   "source": [
    "df.contract_type.value_counts()"
   ]
  },
  {
   "cell_type": "markdown",
   "id": "e89cf802",
   "metadata": {},
   "source": [
    "Looking at redundant columns, columns to drop"
   ]
  },
  {
   "cell_type": "code",
   "execution_count": null,
   "id": "09efe637",
   "metadata": {},
   "outputs": [],
   "source": []
  },
  {
   "cell_type": "markdown",
   "id": "0b12c857",
   "metadata": {},
   "source": [
    "## Preparation"
   ]
  },
  {
   "cell_type": "code",
   "execution_count": 29,
   "id": "2b68273e",
   "metadata": {},
   "outputs": [],
   "source": [
    "from prepare import prep_telco"
   ]
  },
  {
   "cell_type": "code",
   "execution_count": 30,
   "id": "1234039f",
   "metadata": {},
   "outputs": [],
   "source": [
    "df = prep_telco(df)"
   ]
  },
  {
   "cell_type": "code",
   "execution_count": 31,
   "id": "b6b8a161",
   "metadata": {},
   "outputs": [
    {
     "data": {
      "text/html": [
       "<div>\n",
       "<style scoped>\n",
       "    .dataframe tbody tr th:only-of-type {\n",
       "        vertical-align: middle;\n",
       "    }\n",
       "\n",
       "    .dataframe tbody tr th {\n",
       "        vertical-align: top;\n",
       "    }\n",
       "\n",
       "    .dataframe thead th {\n",
       "        text-align: right;\n",
       "    }\n",
       "</style>\n",
       "<table border=\"1\" class=\"dataframe\">\n",
       "  <thead>\n",
       "    <tr style=\"text-align: right;\">\n",
       "      <th></th>\n",
       "      <th>e_gender_male</th>\n",
       "      <th>e_partner</th>\n",
       "      <th>e_dependents</th>\n",
       "      <th>e_phone_service</th>\n",
       "      <th>e_multiple_lines</th>\n",
       "      <th>e_tech_support</th>\n",
       "      <th>e_tv_stream</th>\n",
       "      <th>e_movies_stream</th>\n",
       "      <th>e_paperless_bill</th>\n",
       "      <th>e_online_backup</th>\n",
       "      <th>...</th>\n",
       "      <th>tech_support</th>\n",
       "      <th>streaming_tv</th>\n",
       "      <th>streaming_movies</th>\n",
       "      <th>paperless_billing</th>\n",
       "      <th>monthly_charges</th>\n",
       "      <th>total_charges</th>\n",
       "      <th>churn</th>\n",
       "      <th>internet_service_type</th>\n",
       "      <th>payment_type</th>\n",
       "      <th>contract_type</th>\n",
       "    </tr>\n",
       "  </thead>\n",
       "  <tbody>\n",
       "    <tr>\n",
       "      <th>0</th>\n",
       "      <td>0</td>\n",
       "      <td>1</td>\n",
       "      <td>1</td>\n",
       "      <td>1</td>\n",
       "      <td>0</td>\n",
       "      <td>1</td>\n",
       "      <td>1</td>\n",
       "      <td>0</td>\n",
       "      <td>1</td>\n",
       "      <td>1</td>\n",
       "      <td>...</td>\n",
       "      <td>Yes</td>\n",
       "      <td>Yes</td>\n",
       "      <td>No</td>\n",
       "      <td>Yes</td>\n",
       "      <td>65.60</td>\n",
       "      <td>593.30</td>\n",
       "      <td>No</td>\n",
       "      <td>DSL</td>\n",
       "      <td>Mailed check</td>\n",
       "      <td>One year</td>\n",
       "    </tr>\n",
       "    <tr>\n",
       "      <th>1</th>\n",
       "      <td>1</td>\n",
       "      <td>0</td>\n",
       "      <td>0</td>\n",
       "      <td>1</td>\n",
       "      <td>1</td>\n",
       "      <td>0</td>\n",
       "      <td>0</td>\n",
       "      <td>1</td>\n",
       "      <td>0</td>\n",
       "      <td>0</td>\n",
       "      <td>...</td>\n",
       "      <td>No</td>\n",
       "      <td>No</td>\n",
       "      <td>Yes</td>\n",
       "      <td>No</td>\n",
       "      <td>59.90</td>\n",
       "      <td>542.40</td>\n",
       "      <td>No</td>\n",
       "      <td>DSL</td>\n",
       "      <td>Mailed check</td>\n",
       "      <td>Month-to-month</td>\n",
       "    </tr>\n",
       "    <tr>\n",
       "      <th>2</th>\n",
       "      <td>1</td>\n",
       "      <td>0</td>\n",
       "      <td>0</td>\n",
       "      <td>1</td>\n",
       "      <td>0</td>\n",
       "      <td>0</td>\n",
       "      <td>0</td>\n",
       "      <td>0</td>\n",
       "      <td>1</td>\n",
       "      <td>0</td>\n",
       "      <td>...</td>\n",
       "      <td>No</td>\n",
       "      <td>No</td>\n",
       "      <td>No</td>\n",
       "      <td>Yes</td>\n",
       "      <td>73.90</td>\n",
       "      <td>280.85</td>\n",
       "      <td>Yes</td>\n",
       "      <td>Fiber optic</td>\n",
       "      <td>Electronic check</td>\n",
       "      <td>Month-to-month</td>\n",
       "    </tr>\n",
       "    <tr>\n",
       "      <th>3</th>\n",
       "      <td>1</td>\n",
       "      <td>1</td>\n",
       "      <td>0</td>\n",
       "      <td>1</td>\n",
       "      <td>0</td>\n",
       "      <td>0</td>\n",
       "      <td>1</td>\n",
       "      <td>1</td>\n",
       "      <td>1</td>\n",
       "      <td>1</td>\n",
       "      <td>...</td>\n",
       "      <td>No</td>\n",
       "      <td>Yes</td>\n",
       "      <td>Yes</td>\n",
       "      <td>Yes</td>\n",
       "      <td>98.00</td>\n",
       "      <td>1237.85</td>\n",
       "      <td>Yes</td>\n",
       "      <td>Fiber optic</td>\n",
       "      <td>Electronic check</td>\n",
       "      <td>Month-to-month</td>\n",
       "    </tr>\n",
       "    <tr>\n",
       "      <th>4</th>\n",
       "      <td>0</td>\n",
       "      <td>1</td>\n",
       "      <td>0</td>\n",
       "      <td>1</td>\n",
       "      <td>0</td>\n",
       "      <td>1</td>\n",
       "      <td>1</td>\n",
       "      <td>0</td>\n",
       "      <td>1</td>\n",
       "      <td>0</td>\n",
       "      <td>...</td>\n",
       "      <td>Yes</td>\n",
       "      <td>Yes</td>\n",
       "      <td>No</td>\n",
       "      <td>Yes</td>\n",
       "      <td>83.90</td>\n",
       "      <td>267.40</td>\n",
       "      <td>Yes</td>\n",
       "      <td>Fiber optic</td>\n",
       "      <td>Mailed check</td>\n",
       "      <td>Month-to-month</td>\n",
       "    </tr>\n",
       "    <tr>\n",
       "      <th>...</th>\n",
       "      <td>...</td>\n",
       "      <td>...</td>\n",
       "      <td>...</td>\n",
       "      <td>...</td>\n",
       "      <td>...</td>\n",
       "      <td>...</td>\n",
       "      <td>...</td>\n",
       "      <td>...</td>\n",
       "      <td>...</td>\n",
       "      <td>...</td>\n",
       "      <td>...</td>\n",
       "      <td>...</td>\n",
       "      <td>...</td>\n",
       "      <td>...</td>\n",
       "      <td>...</td>\n",
       "      <td>...</td>\n",
       "      <td>...</td>\n",
       "      <td>...</td>\n",
       "      <td>...</td>\n",
       "      <td>...</td>\n",
       "      <td>...</td>\n",
       "    </tr>\n",
       "    <tr>\n",
       "      <th>7038</th>\n",
       "      <td>0</td>\n",
       "      <td>0</td>\n",
       "      <td>0</td>\n",
       "      <td>1</td>\n",
       "      <td>0</td>\n",
       "      <td>1</td>\n",
       "      <td>0</td>\n",
       "      <td>0</td>\n",
       "      <td>0</td>\n",
       "      <td>0</td>\n",
       "      <td>...</td>\n",
       "      <td>Yes</td>\n",
       "      <td>No</td>\n",
       "      <td>No</td>\n",
       "      <td>No</td>\n",
       "      <td>55.15</td>\n",
       "      <td>742.90</td>\n",
       "      <td>No</td>\n",
       "      <td>DSL</td>\n",
       "      <td>Mailed check</td>\n",
       "      <td>One year</td>\n",
       "    </tr>\n",
       "    <tr>\n",
       "      <th>7039</th>\n",
       "      <td>1</td>\n",
       "      <td>1</td>\n",
       "      <td>0</td>\n",
       "      <td>1</td>\n",
       "      <td>1</td>\n",
       "      <td>0</td>\n",
       "      <td>0</td>\n",
       "      <td>1</td>\n",
       "      <td>1</td>\n",
       "      <td>0</td>\n",
       "      <td>...</td>\n",
       "      <td>No</td>\n",
       "      <td>No</td>\n",
       "      <td>Yes</td>\n",
       "      <td>Yes</td>\n",
       "      <td>85.10</td>\n",
       "      <td>1873.70</td>\n",
       "      <td>Yes</td>\n",
       "      <td>Fiber optic</td>\n",
       "      <td>Electronic check</td>\n",
       "      <td>Month-to-month</td>\n",
       "    </tr>\n",
       "    <tr>\n",
       "      <th>7040</th>\n",
       "      <td>1</td>\n",
       "      <td>0</td>\n",
       "      <td>0</td>\n",
       "      <td>1</td>\n",
       "      <td>0</td>\n",
       "      <td>0</td>\n",
       "      <td>0</td>\n",
       "      <td>0</td>\n",
       "      <td>1</td>\n",
       "      <td>1</td>\n",
       "      <td>...</td>\n",
       "      <td>No</td>\n",
       "      <td>No</td>\n",
       "      <td>No</td>\n",
       "      <td>Yes</td>\n",
       "      <td>50.30</td>\n",
       "      <td>92.75</td>\n",
       "      <td>No</td>\n",
       "      <td>DSL</td>\n",
       "      <td>Mailed check</td>\n",
       "      <td>Month-to-month</td>\n",
       "    </tr>\n",
       "    <tr>\n",
       "      <th>7041</th>\n",
       "      <td>1</td>\n",
       "      <td>1</td>\n",
       "      <td>1</td>\n",
       "      <td>1</td>\n",
       "      <td>0</td>\n",
       "      <td>1</td>\n",
       "      <td>0</td>\n",
       "      <td>1</td>\n",
       "      <td>0</td>\n",
       "      <td>0</td>\n",
       "      <td>...</td>\n",
       "      <td>Yes</td>\n",
       "      <td>No</td>\n",
       "      <td>Yes</td>\n",
       "      <td>No</td>\n",
       "      <td>67.85</td>\n",
       "      <td>4627.65</td>\n",
       "      <td>No</td>\n",
       "      <td>DSL</td>\n",
       "      <td>Mailed check</td>\n",
       "      <td>Two year</td>\n",
       "    </tr>\n",
       "    <tr>\n",
       "      <th>7042</th>\n",
       "      <td>1</td>\n",
       "      <td>1</td>\n",
       "      <td>1</td>\n",
       "      <td>0</td>\n",
       "      <td>0</td>\n",
       "      <td>0</td>\n",
       "      <td>1</td>\n",
       "      <td>1</td>\n",
       "      <td>0</td>\n",
       "      <td>1</td>\n",
       "      <td>...</td>\n",
       "      <td>No</td>\n",
       "      <td>Yes</td>\n",
       "      <td>Yes</td>\n",
       "      <td>No</td>\n",
       "      <td>59.00</td>\n",
       "      <td>3707.60</td>\n",
       "      <td>No</td>\n",
       "      <td>DSL</td>\n",
       "      <td>Electronic check</td>\n",
       "      <td>Two year</td>\n",
       "    </tr>\n",
       "  </tbody>\n",
       "</table>\n",
       "<p>7032 rows × 40 columns</p>\n",
       "</div>"
      ],
      "text/plain": [
       "      e_gender_male  e_partner  e_dependents  e_phone_service  \\\n",
       "0                 0          1             1                1   \n",
       "1                 1          0             0                1   \n",
       "2                 1          0             0                1   \n",
       "3                 1          1             0                1   \n",
       "4                 0          1             0                1   \n",
       "...             ...        ...           ...              ...   \n",
       "7038              0          0             0                1   \n",
       "7039              1          1             0                1   \n",
       "7040              1          0             0                1   \n",
       "7041              1          1             1                1   \n",
       "7042              1          1             1                0   \n",
       "\n",
       "      e_multiple_lines  e_tech_support  e_tv_stream  e_movies_stream  \\\n",
       "0                    0               1            1                0   \n",
       "1                    1               0            0                1   \n",
       "2                    0               0            0                0   \n",
       "3                    0               0            1                1   \n",
       "4                    0               1            1                0   \n",
       "...                ...             ...          ...              ...   \n",
       "7038                 0               1            0                0   \n",
       "7039                 1               0            0                1   \n",
       "7040                 0               0            0                0   \n",
       "7041                 0               1            0                1   \n",
       "7042                 0               0            1                1   \n",
       "\n",
       "      e_paperless_bill  e_online_backup  ...  tech_support  streaming_tv  \\\n",
       "0                    1                1  ...           Yes           Yes   \n",
       "1                    0                0  ...            No            No   \n",
       "2                    1                0  ...            No            No   \n",
       "3                    1                1  ...            No           Yes   \n",
       "4                    1                0  ...           Yes           Yes   \n",
       "...                ...              ...  ...           ...           ...   \n",
       "7038                 0                0  ...           Yes            No   \n",
       "7039                 1                0  ...            No            No   \n",
       "7040                 1                1  ...            No            No   \n",
       "7041                 0                0  ...           Yes            No   \n",
       "7042                 0                1  ...            No           Yes   \n",
       "\n",
       "      streaming_movies  paperless_billing  monthly_charges  total_charges  \\\n",
       "0                   No                Yes            65.60         593.30   \n",
       "1                  Yes                 No            59.90         542.40   \n",
       "2                   No                Yes            73.90         280.85   \n",
       "3                  Yes                Yes            98.00        1237.85   \n",
       "4                   No                Yes            83.90         267.40   \n",
       "...                ...                ...              ...            ...   \n",
       "7038                No                 No            55.15         742.90   \n",
       "7039               Yes                Yes            85.10        1873.70   \n",
       "7040                No                Yes            50.30          92.75   \n",
       "7041               Yes                 No            67.85        4627.65   \n",
       "7042               Yes                 No            59.00        3707.60   \n",
       "\n",
       "      churn  internet_service_type      payment_type   contract_type  \n",
       "0        No                    DSL      Mailed check        One year  \n",
       "1        No                    DSL      Mailed check  Month-to-month  \n",
       "2       Yes            Fiber optic  Electronic check  Month-to-month  \n",
       "3       Yes            Fiber optic  Electronic check  Month-to-month  \n",
       "4       Yes            Fiber optic      Mailed check  Month-to-month  \n",
       "...     ...                    ...               ...             ...  \n",
       "7038     No                    DSL      Mailed check        One year  \n",
       "7039    Yes            Fiber optic  Electronic check  Month-to-month  \n",
       "7040     No                    DSL      Mailed check  Month-to-month  \n",
       "7041     No                    DSL      Mailed check        Two year  \n",
       "7042     No                    DSL  Electronic check        Two year  \n",
       "\n",
       "[7032 rows x 40 columns]"
      ]
     },
     "execution_count": 31,
     "metadata": {},
     "output_type": "execute_result"
    }
   ],
   "source": [
    "df"
   ]
  },
  {
   "cell_type": "code",
   "execution_count": 32,
   "id": "c403fe1e",
   "metadata": {},
   "outputs": [
    {
     "name": "stdout",
     "output_type": "stream",
     "text": [
      "<class 'pandas.core.frame.DataFrame'>\n",
      "Int64Index: 7032 entries, 0 to 7042\n",
      "Data columns (total 40 columns):\n",
      " #   Column                 Non-Null Count  Dtype  \n",
      "---  ------                 --------------  -----  \n",
      " 0   e_gender_male          7032 non-null   uint8  \n",
      " 1   e_partner              7032 non-null   uint8  \n",
      " 2   e_dependents           7032 non-null   uint8  \n",
      " 3   e_phone_service        7032 non-null   uint8  \n",
      " 4   e_multiple_lines       7032 non-null   uint8  \n",
      " 5   e_tech_support         7032 non-null   uint8  \n",
      " 6   e_tv_stream            7032 non-null   uint8  \n",
      " 7   e_movies_stream        7032 non-null   uint8  \n",
      " 8   e_paperless_bill       7032 non-null   uint8  \n",
      " 9   e_online_backup        7032 non-null   uint8  \n",
      " 10  e_online_sec           7032 non-null   uint8  \n",
      " 11  e_device_protection    7032 non-null   uint8  \n",
      " 12  e_churn                7032 non-null   uint8  \n",
      " 13  e_fiber_optic          7032 non-null   uint8  \n",
      " 14  e_no_internet          7032 non-null   uint8  \n",
      " 15  e_cc_auto              7032 non-null   uint8  \n",
      " 16  e_check_electric       7032 non-null   uint8  \n",
      " 17  e_check_mail           7032 non-null   uint8  \n",
      " 18  e_oneyr                7032 non-null   uint8  \n",
      " 19  e_twoyr                7032 non-null   uint8  \n",
      " 20  gender                 7032 non-null   object \n",
      " 21  senior_citizen         7032 non-null   int64  \n",
      " 22  partner                7032 non-null   object \n",
      " 23  dependents             7032 non-null   object \n",
      " 24  tenure                 7032 non-null   int64  \n",
      " 25  phone_service          7032 non-null   object \n",
      " 26  multiple_lines         7032 non-null   object \n",
      " 27  online_security        7032 non-null   object \n",
      " 28  online_backup          7032 non-null   object \n",
      " 29  device_protection      7032 non-null   object \n",
      " 30  tech_support           7032 non-null   object \n",
      " 31  streaming_tv           7032 non-null   object \n",
      " 32  streaming_movies       7032 non-null   object \n",
      " 33  paperless_billing      7032 non-null   object \n",
      " 34  monthly_charges        7032 non-null   float64\n",
      " 35  total_charges          7032 non-null   float64\n",
      " 36  churn                  7032 non-null   object \n",
      " 37  internet_service_type  7032 non-null   object \n",
      " 38  payment_type           7032 non-null   object \n",
      " 39  contract_type          7032 non-null   object \n",
      "dtypes: float64(2), int64(2), object(16), uint8(20)\n",
      "memory usage: 1.3+ MB\n"
     ]
    }
   ],
   "source": [
    "df.info()"
   ]
  },
  {
   "cell_type": "code",
   "execution_count": 33,
   "id": "5d84f0f0",
   "metadata": {},
   "outputs": [
    {
     "data": {
      "text/plain": [
       "e_gender_male            0\n",
       "e_partner                0\n",
       "e_dependents             0\n",
       "e_phone_service          0\n",
       "e_multiple_lines         0\n",
       "e_tech_support           0\n",
       "e_tv_stream              0\n",
       "e_movies_stream          0\n",
       "e_paperless_bill         0\n",
       "e_online_backup          0\n",
       "e_online_sec             0\n",
       "e_device_protection      0\n",
       "e_churn                  0\n",
       "e_fiber_optic            0\n",
       "e_no_internet            0\n",
       "e_cc_auto                0\n",
       "e_check_electric         0\n",
       "e_check_mail             0\n",
       "e_oneyr                  0\n",
       "e_twoyr                  0\n",
       "gender                   0\n",
       "senior_citizen           0\n",
       "partner                  0\n",
       "dependents               0\n",
       "tenure                   0\n",
       "phone_service            0\n",
       "multiple_lines           0\n",
       "online_security          0\n",
       "online_backup            0\n",
       "device_protection        0\n",
       "tech_support             0\n",
       "streaming_tv             0\n",
       "streaming_movies         0\n",
       "paperless_billing        0\n",
       "monthly_charges          0\n",
       "total_charges            0\n",
       "churn                    0\n",
       "internet_service_type    0\n",
       "payment_type             0\n",
       "contract_type            0\n",
       "dtype: int64"
      ]
     },
     "execution_count": 33,
     "metadata": {},
     "output_type": "execute_result"
    }
   ],
   "source": [
    "df.isna().sum()"
   ]
  },
  {
   "cell_type": "code",
   "execution_count": 34,
   "id": "89cc15e9",
   "metadata": {},
   "outputs": [
    {
     "data": {
      "text/plain": [
       "7032"
      ]
     },
     "execution_count": 34,
     "metadata": {},
     "output_type": "execute_result"
    }
   ],
   "source": [
    "len(df)"
   ]
  },
  {
   "cell_type": "markdown",
   "id": "ad2bf149",
   "metadata": {},
   "source": [
    "visualize univariate data"
   ]
  },
  {
   "cell_type": "code",
   "execution_count": 35,
   "id": "6f946612",
   "metadata": {},
   "outputs": [
    {
     "data": {
      "text/plain": [
       "<AxesSubplot:xlabel='churn', ylabel='count'>"
      ]
     },
     "execution_count": 35,
     "metadata": {},
     "output_type": "execute_result"
    },
    {
     "data": {
      "image/png": "[encoded data removed]",
      "text/plain": [
       "<Figure size 432x288 with 1 Axes>"
      ]
     },
     "metadata": {
      "needs_background": "light"
     },
     "output_type": "display_data"
    }
   ],
   "source": [
    "sns.countplot(df['churn'])"
   ]
  },
  {
   "cell_type": "markdown",
   "id": "46cf4546",
   "metadata": {},
   "source": [
    "## Exploration and Pre-processing"
   ]
  },
  {
   "cell_type": "markdown",
   "id": "6fae9c92",
   "metadata": {},
   "source": [
    "relationships between 2 or more variables on train data"
   ]
  },
  {
   "cell_type": "markdown",
   "id": "67de4228",
   "metadata": {},
   "source": [
    "statistical tests"
   ]
  },
  {
   "cell_type": "code",
   "execution_count": 36,
   "id": "94af0c87",
   "metadata": {},
   "outputs": [],
   "source": [
    "from prepare import train_validate_test_split"
   ]
  },
  {
   "cell_type": "code",
   "execution_count": 37,
   "id": "18f64d64",
   "metadata": {},
   "outputs": [],
   "source": [
    "train, validate, test = train_validate_test_split(df, target=\"churn\", seed=123)"
   ]
  },
  {
   "cell_type": "code",
   "execution_count": 38,
   "id": "21c3e622",
   "metadata": {},
   "outputs": [
    {
     "data": {
      "text/html": [
       "<div>\n",
       "<style scoped>\n",
       "    .dataframe tbody tr th:only-of-type {\n",
       "        vertical-align: middle;\n",
       "    }\n",
       "\n",
       "    .dataframe tbody tr th {\n",
       "        vertical-align: top;\n",
       "    }\n",
       "\n",
       "    .dataframe thead th {\n",
       "        text-align: right;\n",
       "    }\n",
       "</style>\n",
       "<table border=\"1\" class=\"dataframe\">\n",
       "  <thead>\n",
       "    <tr style=\"text-align: right;\">\n",
       "      <th></th>\n",
       "      <th>e_gender_male</th>\n",
       "      <th>e_partner</th>\n",
       "      <th>e_dependents</th>\n",
       "      <th>e_phone_service</th>\n",
       "      <th>e_multiple_lines</th>\n",
       "      <th>e_tech_support</th>\n",
       "      <th>e_tv_stream</th>\n",
       "      <th>e_movies_stream</th>\n",
       "      <th>e_paperless_bill</th>\n",
       "      <th>e_online_backup</th>\n",
       "      <th>...</th>\n",
       "      <th>tech_support</th>\n",
       "      <th>streaming_tv</th>\n",
       "      <th>streaming_movies</th>\n",
       "      <th>paperless_billing</th>\n",
       "      <th>monthly_charges</th>\n",
       "      <th>total_charges</th>\n",
       "      <th>churn</th>\n",
       "      <th>internet_service_type</th>\n",
       "      <th>payment_type</th>\n",
       "      <th>contract_type</th>\n",
       "    </tr>\n",
       "  </thead>\n",
       "  <tbody>\n",
       "    <tr>\n",
       "      <th>5919</th>\n",
       "      <td>0</td>\n",
       "      <td>0</td>\n",
       "      <td>0</td>\n",
       "      <td>1</td>\n",
       "      <td>1</td>\n",
       "      <td>1</td>\n",
       "      <td>0</td>\n",
       "      <td>0</td>\n",
       "      <td>1</td>\n",
       "      <td>1</td>\n",
       "      <td>...</td>\n",
       "      <td>Yes</td>\n",
       "      <td>No</td>\n",
       "      <td>No</td>\n",
       "      <td>Yes</td>\n",
       "      <td>71.10</td>\n",
       "      <td>4299.20</td>\n",
       "      <td>No</td>\n",
       "      <td>DSL</td>\n",
       "      <td>Credit card (automatic)</td>\n",
       "      <td>One year</td>\n",
       "    </tr>\n",
       "    <tr>\n",
       "      <th>1915</th>\n",
       "      <td>1</td>\n",
       "      <td>0</td>\n",
       "      <td>1</td>\n",
       "      <td>1</td>\n",
       "      <td>1</td>\n",
       "      <td>0</td>\n",
       "      <td>0</td>\n",
       "      <td>0</td>\n",
       "      <td>1</td>\n",
       "      <td>1</td>\n",
       "      <td>...</td>\n",
       "      <td>No</td>\n",
       "      <td>No</td>\n",
       "      <td>No</td>\n",
       "      <td>Yes</td>\n",
       "      <td>85.45</td>\n",
       "      <td>6028.95</td>\n",
       "      <td>No</td>\n",
       "      <td>Fiber optic</td>\n",
       "      <td>Credit card (automatic)</td>\n",
       "      <td>One year</td>\n",
       "    </tr>\n",
       "    <tr>\n",
       "      <th>5054</th>\n",
       "      <td>0</td>\n",
       "      <td>1</td>\n",
       "      <td>1</td>\n",
       "      <td>1</td>\n",
       "      <td>1</td>\n",
       "      <td>0</td>\n",
       "      <td>0</td>\n",
       "      <td>0</td>\n",
       "      <td>1</td>\n",
       "      <td>0</td>\n",
       "      <td>...</td>\n",
       "      <td>No</td>\n",
       "      <td>No</td>\n",
       "      <td>No</td>\n",
       "      <td>Yes</td>\n",
       "      <td>25.75</td>\n",
       "      <td>882.55</td>\n",
       "      <td>No</td>\n",
       "      <td>None</td>\n",
       "      <td>Electronic check</td>\n",
       "      <td>Month-to-month</td>\n",
       "    </tr>\n",
       "    <tr>\n",
       "      <th>2355</th>\n",
       "      <td>1</td>\n",
       "      <td>1</td>\n",
       "      <td>1</td>\n",
       "      <td>1</td>\n",
       "      <td>0</td>\n",
       "      <td>0</td>\n",
       "      <td>0</td>\n",
       "      <td>0</td>\n",
       "      <td>0</td>\n",
       "      <td>0</td>\n",
       "      <td>...</td>\n",
       "      <td>No</td>\n",
       "      <td>No</td>\n",
       "      <td>No</td>\n",
       "      <td>No</td>\n",
       "      <td>19.20</td>\n",
       "      <td>19.20</td>\n",
       "      <td>No</td>\n",
       "      <td>None</td>\n",
       "      <td>Mailed check</td>\n",
       "      <td>Month-to-month</td>\n",
       "    </tr>\n",
       "    <tr>\n",
       "      <th>6279</th>\n",
       "      <td>1</td>\n",
       "      <td>0</td>\n",
       "      <td>0</td>\n",
       "      <td>1</td>\n",
       "      <td>0</td>\n",
       "      <td>1</td>\n",
       "      <td>0</td>\n",
       "      <td>0</td>\n",
       "      <td>0</td>\n",
       "      <td>0</td>\n",
       "      <td>...</td>\n",
       "      <td>Yes</td>\n",
       "      <td>No</td>\n",
       "      <td>No</td>\n",
       "      <td>No</td>\n",
       "      <td>54.00</td>\n",
       "      <td>1055.90</td>\n",
       "      <td>No</td>\n",
       "      <td>DSL</td>\n",
       "      <td>Mailed check</td>\n",
       "      <td>One year</td>\n",
       "    </tr>\n",
       "    <tr>\n",
       "      <th>...</th>\n",
       "      <td>...</td>\n",
       "      <td>...</td>\n",
       "      <td>...</td>\n",
       "      <td>...</td>\n",
       "      <td>...</td>\n",
       "      <td>...</td>\n",
       "      <td>...</td>\n",
       "      <td>...</td>\n",
       "      <td>...</td>\n",
       "      <td>...</td>\n",
       "      <td>...</td>\n",
       "      <td>...</td>\n",
       "      <td>...</td>\n",
       "      <td>...</td>\n",
       "      <td>...</td>\n",
       "      <td>...</td>\n",
       "      <td>...</td>\n",
       "      <td>...</td>\n",
       "      <td>...</td>\n",
       "      <td>...</td>\n",
       "      <td>...</td>\n",
       "    </tr>\n",
       "    <tr>\n",
       "      <th>394</th>\n",
       "      <td>0</td>\n",
       "      <td>0</td>\n",
       "      <td>0</td>\n",
       "      <td>1</td>\n",
       "      <td>1</td>\n",
       "      <td>0</td>\n",
       "      <td>1</td>\n",
       "      <td>0</td>\n",
       "      <td>1</td>\n",
       "      <td>0</td>\n",
       "      <td>...</td>\n",
       "      <td>No</td>\n",
       "      <td>Yes</td>\n",
       "      <td>No</td>\n",
       "      <td>Yes</td>\n",
       "      <td>88.95</td>\n",
       "      <td>2072.75</td>\n",
       "      <td>No</td>\n",
       "      <td>Fiber optic</td>\n",
       "      <td>Credit card (automatic)</td>\n",
       "      <td>Month-to-month</td>\n",
       "    </tr>\n",
       "    <tr>\n",
       "      <th>3763</th>\n",
       "      <td>0</td>\n",
       "      <td>1</td>\n",
       "      <td>1</td>\n",
       "      <td>1</td>\n",
       "      <td>1</td>\n",
       "      <td>0</td>\n",
       "      <td>1</td>\n",
       "      <td>1</td>\n",
       "      <td>1</td>\n",
       "      <td>0</td>\n",
       "      <td>...</td>\n",
       "      <td>No</td>\n",
       "      <td>Yes</td>\n",
       "      <td>Yes</td>\n",
       "      <td>Yes</td>\n",
       "      <td>100.25</td>\n",
       "      <td>1064.65</td>\n",
       "      <td>Yes</td>\n",
       "      <td>Fiber optic</td>\n",
       "      <td>Electronic check</td>\n",
       "      <td>Month-to-month</td>\n",
       "    </tr>\n",
       "    <tr>\n",
       "      <th>3444</th>\n",
       "      <td>0</td>\n",
       "      <td>1</td>\n",
       "      <td>1</td>\n",
       "      <td>1</td>\n",
       "      <td>1</td>\n",
       "      <td>0</td>\n",
       "      <td>0</td>\n",
       "      <td>0</td>\n",
       "      <td>0</td>\n",
       "      <td>0</td>\n",
       "      <td>...</td>\n",
       "      <td>No</td>\n",
       "      <td>No</td>\n",
       "      <td>No</td>\n",
       "      <td>No</td>\n",
       "      <td>25.25</td>\n",
       "      <td>555.40</td>\n",
       "      <td>No</td>\n",
       "      <td>None</td>\n",
       "      <td>Credit card (automatic)</td>\n",
       "      <td>Two year</td>\n",
       "    </tr>\n",
       "    <tr>\n",
       "      <th>1002</th>\n",
       "      <td>1</td>\n",
       "      <td>0</td>\n",
       "      <td>1</td>\n",
       "      <td>1</td>\n",
       "      <td>1</td>\n",
       "      <td>0</td>\n",
       "      <td>1</td>\n",
       "      <td>0</td>\n",
       "      <td>1</td>\n",
       "      <td>1</td>\n",
       "      <td>...</td>\n",
       "      <td>No</td>\n",
       "      <td>Yes</td>\n",
       "      <td>No</td>\n",
       "      <td>Yes</td>\n",
       "      <td>89.10</td>\n",
       "      <td>1949.40</td>\n",
       "      <td>No</td>\n",
       "      <td>Fiber optic</td>\n",
       "      <td>Credit card (automatic)</td>\n",
       "      <td>Month-to-month</td>\n",
       "    </tr>\n",
       "    <tr>\n",
       "      <th>4192</th>\n",
       "      <td>1</td>\n",
       "      <td>0</td>\n",
       "      <td>0</td>\n",
       "      <td>1</td>\n",
       "      <td>0</td>\n",
       "      <td>0</td>\n",
       "      <td>0</td>\n",
       "      <td>0</td>\n",
       "      <td>0</td>\n",
       "      <td>0</td>\n",
       "      <td>...</td>\n",
       "      <td>No</td>\n",
       "      <td>No</td>\n",
       "      <td>No</td>\n",
       "      <td>No</td>\n",
       "      <td>20.05</td>\n",
       "      <td>42.70</td>\n",
       "      <td>No</td>\n",
       "      <td>None</td>\n",
       "      <td>Mailed check</td>\n",
       "      <td>Month-to-month</td>\n",
       "    </tr>\n",
       "  </tbody>\n",
       "</table>\n",
       "<p>3937 rows × 40 columns</p>\n",
       "</div>"
      ],
      "text/plain": [
       "      e_gender_male  e_partner  e_dependents  e_phone_service  \\\n",
       "5919              0          0             0                1   \n",
       "1915              1          0             1                1   \n",
       "5054              0          1             1                1   \n",
       "2355              1          1             1                1   \n",
       "6279              1          0             0                1   \n",
       "...             ...        ...           ...              ...   \n",
       "394               0          0             0                1   \n",
       "3763              0          1             1                1   \n",
       "3444              0          1             1                1   \n",
       "1002              1          0             1                1   \n",
       "4192              1          0             0                1   \n",
       "\n",
       "      e_multiple_lines  e_tech_support  e_tv_stream  e_movies_stream  \\\n",
       "5919                 1               1            0                0   \n",
       "1915                 1               0            0                0   \n",
       "5054                 1               0            0                0   \n",
       "2355                 0               0            0                0   \n",
       "6279                 0               1            0                0   \n",
       "...                ...             ...          ...              ...   \n",
       "394                  1               0            1                0   \n",
       "3763                 1               0            1                1   \n",
       "3444                 1               0            0                0   \n",
       "1002                 1               0            1                0   \n",
       "4192                 0               0            0                0   \n",
       "\n",
       "      e_paperless_bill  e_online_backup  ...  tech_support  streaming_tv  \\\n",
       "5919                 1                1  ...           Yes            No   \n",
       "1915                 1                1  ...            No            No   \n",
       "5054                 1                0  ...            No            No   \n",
       "2355                 0                0  ...            No            No   \n",
       "6279                 0                0  ...           Yes            No   \n",
       "...                ...              ...  ...           ...           ...   \n",
       "394                  1                0  ...            No           Yes   \n",
       "3763                 1                0  ...            No           Yes   \n",
       "3444                 0                0  ...            No            No   \n",
       "1002                 1                1  ...            No           Yes   \n",
       "4192                 0                0  ...            No            No   \n",
       "\n",
       "      streaming_movies  paperless_billing  monthly_charges  total_charges  \\\n",
       "5919                No                Yes            71.10        4299.20   \n",
       "1915                No                Yes            85.45        6028.95   \n",
       "5054                No                Yes            25.75         882.55   \n",
       "2355                No                 No            19.20          19.20   \n",
       "6279                No                 No            54.00        1055.90   \n",
       "...                ...                ...              ...            ...   \n",
       "394                 No                Yes            88.95        2072.75   \n",
       "3763               Yes                Yes           100.25        1064.65   \n",
       "3444                No                 No            25.25         555.40   \n",
       "1002                No                Yes            89.10        1949.40   \n",
       "4192                No                 No            20.05          42.70   \n",
       "\n",
       "      churn  internet_service_type             payment_type   contract_type  \n",
       "5919     No                    DSL  Credit card (automatic)        One year  \n",
       "1915     No            Fiber optic  Credit card (automatic)        One year  \n",
       "5054     No                   None         Electronic check  Month-to-month  \n",
       "2355     No                   None             Mailed check  Month-to-month  \n",
       "6279     No                    DSL             Mailed check        One year  \n",
       "...     ...                    ...                      ...             ...  \n",
       "394      No            Fiber optic  Credit card (automatic)  Month-to-month  \n",
       "3763    Yes            Fiber optic         Electronic check  Month-to-month  \n",
       "3444     No                   None  Credit card (automatic)        Two year  \n",
       "1002     No            Fiber optic  Credit card (automatic)  Month-to-month  \n",
       "4192     No                   None             Mailed check  Month-to-month  \n",
       "\n",
       "[3937 rows x 40 columns]"
      ]
     },
     "execution_count": 38,
     "metadata": {},
     "output_type": "execute_result"
    }
   ],
   "source": [
    "train"
   ]
  },
  {
   "cell_type": "code",
   "execution_count": null,
   "id": "0e9aa984",
   "metadata": {},
   "outputs": [],
   "source": []
  },
  {
   "cell_type": "markdown",
   "id": "aba27a84",
   "metadata": {},
   "source": [
    "### Senior Citizen"
   ]
  },
  {
   "cell_type": "markdown",
   "id": "e44cc757",
   "metadata": {},
   "source": [
    "𝐻0  : There is no relationship between senior citizen and customer churn\n",
    "\n",
    "𝐻𝑎 : There is a relationship between senior citizen and customer churn"
   ]
  },
  {
   "cell_type": "code",
   "execution_count": 39,
   "id": "75b1634e",
   "metadata": {},
   "outputs": [],
   "source": [
    "alpha = .05"
   ]
  },
  {
   "cell_type": "code",
   "execution_count": 40,
   "id": "f0dee808",
   "metadata": {},
   "outputs": [
    {
     "data": {
      "text/html": [
       "<div>\n",
       "<style scoped>\n",
       "    .dataframe tbody tr th:only-of-type {\n",
       "        vertical-align: middle;\n",
       "    }\n",
       "\n",
       "    .dataframe tbody tr th {\n",
       "        vertical-align: top;\n",
       "    }\n",
       "\n",
       "    .dataframe thead th {\n",
       "        text-align: right;\n",
       "    }\n",
       "</style>\n",
       "<table border=\"1\" class=\"dataframe\">\n",
       "  <thead>\n",
       "    <tr style=\"text-align: right;\">\n",
       "      <th>senior_citizen</th>\n",
       "      <th>0</th>\n",
       "      <th>1</th>\n",
       "    </tr>\n",
       "    <tr>\n",
       "      <th>churn</th>\n",
       "      <th></th>\n",
       "      <th></th>\n",
       "    </tr>\n",
       "  </thead>\n",
       "  <tbody>\n",
       "    <tr>\n",
       "      <th>No</th>\n",
       "      <td>2527</td>\n",
       "      <td>364</td>\n",
       "    </tr>\n",
       "    <tr>\n",
       "      <th>Yes</th>\n",
       "      <td>775</td>\n",
       "      <td>271</td>\n",
       "    </tr>\n",
       "  </tbody>\n",
       "</table>\n",
       "</div>"
      ],
      "text/plain": [
       "senior_citizen     0    1\n",
       "churn                    \n",
       "No              2527  364\n",
       "Yes              775  271"
      ]
     },
     "execution_count": 40,
     "metadata": {},
     "output_type": "execute_result"
    }
   ],
   "source": [
    "observed = pd.crosstab(train.churn, train.senior_citizen)\n",
    "observed"
   ]
  },
  {
   "cell_type": "code",
   "execution_count": 41,
   "id": "2b1530bd",
   "metadata": {},
   "outputs": [
    {
     "data": {
      "text/plain": [
       "1.7561315684822571e-23"
      ]
     },
     "execution_count": 41,
     "metadata": {},
     "output_type": "execute_result"
    }
   ],
   "source": [
    "info, p, info2, info3 = stats.chi2_contingency(observed)\n",
    "p"
   ]
  },
  {
   "cell_type": "code",
   "execution_count": 42,
   "id": "21e25f8f",
   "metadata": {},
   "outputs": [
    {
     "name": "stdout",
     "output_type": "stream",
     "text": [
      "reject the null hypothesis\n"
     ]
    }
   ],
   "source": [
    "if p < alpha:\n",
    "    print(\"reject the null hypothesis\")\n",
    "else:\n",
    "    print(\"fail to reject the null hypothesis\")"
   ]
  },
  {
   "cell_type": "markdown",
   "id": "964e7169",
   "metadata": {},
   "source": [
    "### Streaming TV"
   ]
  },
  {
   "cell_type": "markdown",
   "id": "ee67c44c",
   "metadata": {},
   "source": [
    "𝐻0 : There is no relationship between streaming_tv and customer churn\n",
    "\n",
    "𝐻𝑎 : There is a relationship between streaming_tv and customer churn"
   ]
  },
  {
   "cell_type": "code",
   "execution_count": 43,
   "id": "25f88418",
   "metadata": {},
   "outputs": [
    {
     "data": {
      "text/html": [
       "<div>\n",
       "<style scoped>\n",
       "    .dataframe tbody tr th:only-of-type {\n",
       "        vertical-align: middle;\n",
       "    }\n",
       "\n",
       "    .dataframe tbody tr th {\n",
       "        vertical-align: top;\n",
       "    }\n",
       "\n",
       "    .dataframe thead th {\n",
       "        text-align: right;\n",
       "    }\n",
       "</style>\n",
       "<table border=\"1\" class=\"dataframe\">\n",
       "  <thead>\n",
       "    <tr style=\"text-align: right;\">\n",
       "      <th>streaming_tv</th>\n",
       "      <th>No</th>\n",
       "      <th>Yes</th>\n",
       "    </tr>\n",
       "    <tr>\n",
       "      <th>churn</th>\n",
       "      <th></th>\n",
       "      <th></th>\n",
       "    </tr>\n",
       "  </thead>\n",
       "  <tbody>\n",
       "    <tr>\n",
       "      <th>No</th>\n",
       "      <td>1807</td>\n",
       "      <td>1084</td>\n",
       "    </tr>\n",
       "    <tr>\n",
       "      <th>Yes</th>\n",
       "      <td>609</td>\n",
       "      <td>437</td>\n",
       "    </tr>\n",
       "  </tbody>\n",
       "</table>\n",
       "</div>"
      ],
      "text/plain": [
       "streaming_tv    No   Yes\n",
       "churn                   \n",
       "No            1807  1084\n",
       "Yes            609   437"
      ]
     },
     "execution_count": 43,
     "metadata": {},
     "output_type": "execute_result"
    }
   ],
   "source": [
    "observed = pd.crosstab(train.churn, train.streaming_tv)\n",
    "observed"
   ]
  },
  {
   "cell_type": "code",
   "execution_count": 44,
   "id": "c11aab4e",
   "metadata": {},
   "outputs": [
    {
     "data": {
      "text/plain": [
       "0.016371276214347655"
      ]
     },
     "execution_count": 44,
     "metadata": {},
     "output_type": "execute_result"
    }
   ],
   "source": [
    "info, p, info2, info3 = stats.chi2_contingency(observed)\n",
    "p"
   ]
  },
  {
   "cell_type": "code",
   "execution_count": 45,
   "id": "ac59f5da",
   "metadata": {},
   "outputs": [
    {
     "name": "stdout",
     "output_type": "stream",
     "text": [
      "reject the null hypothesis\n"
     ]
    }
   ],
   "source": [
    "if p < alpha:\n",
    "    print(\"reject the null hypothesis\")\n",
    "else:\n",
    "    print(\"fail to reject the null hypothesis\")"
   ]
  },
  {
   "cell_type": "markdown",
   "id": "2424df20",
   "metadata": {},
   "source": [
    "### Phone Service"
   ]
  },
  {
   "cell_type": "markdown",
   "id": "572eaa66",
   "metadata": {},
   "source": [
    "𝐻0 : There is no relationship between phone service and customer churn\n",
    "\n",
    "𝐻𝑎 : There is a relationship between phone service and customer churn"
   ]
  },
  {
   "cell_type": "code",
   "execution_count": 46,
   "id": "757a1494",
   "metadata": {},
   "outputs": [
    {
     "data": {
      "text/html": [
       "<div>\n",
       "<style scoped>\n",
       "    .dataframe tbody tr th:only-of-type {\n",
       "        vertical-align: middle;\n",
       "    }\n",
       "\n",
       "    .dataframe tbody tr th {\n",
       "        vertical-align: top;\n",
       "    }\n",
       "\n",
       "    .dataframe thead th {\n",
       "        text-align: right;\n",
       "    }\n",
       "</style>\n",
       "<table border=\"1\" class=\"dataframe\">\n",
       "  <thead>\n",
       "    <tr style=\"text-align: right;\">\n",
       "      <th>phone_service</th>\n",
       "      <th>No</th>\n",
       "      <th>Yes</th>\n",
       "    </tr>\n",
       "    <tr>\n",
       "      <th>churn</th>\n",
       "      <th></th>\n",
       "      <th></th>\n",
       "    </tr>\n",
       "  </thead>\n",
       "  <tbody>\n",
       "    <tr>\n",
       "      <th>No</th>\n",
       "      <td>282</td>\n",
       "      <td>2609</td>\n",
       "    </tr>\n",
       "    <tr>\n",
       "      <th>Yes</th>\n",
       "      <td>91</td>\n",
       "      <td>955</td>\n",
       "    </tr>\n",
       "  </tbody>\n",
       "</table>\n",
       "</div>"
      ],
      "text/plain": [
       "phone_service   No   Yes\n",
       "churn                   \n",
       "No             282  2609\n",
       "Yes             91   955"
      ]
     },
     "execution_count": 46,
     "metadata": {},
     "output_type": "execute_result"
    }
   ],
   "source": [
    "observed = pd.crosstab(train.churn, train.phone_service)\n",
    "observed"
   ]
  },
  {
   "cell_type": "code",
   "execution_count": 47,
   "id": "c9c8b207",
   "metadata": {},
   "outputs": [
    {
     "data": {
      "text/plain": [
       "0.3490605904235855"
      ]
     },
     "execution_count": 47,
     "metadata": {},
     "output_type": "execute_result"
    }
   ],
   "source": [
    "info, p, info2, info3 = stats.chi2_contingency(observed)\n",
    "p"
   ]
  },
  {
   "cell_type": "code",
   "execution_count": 48,
   "id": "fefb6f2d",
   "metadata": {},
   "outputs": [
    {
     "name": "stdout",
     "output_type": "stream",
     "text": [
      "fail to reject the null hypothesis\n"
     ]
    }
   ],
   "source": [
    "if p < alpha:\n",
    "    print(\"reject the null hypothesis\")\n",
    "else:\n",
    "    print(\"fail to reject the null hypothesis\")"
   ]
  },
  {
   "cell_type": "markdown",
   "id": "9acb894a",
   "metadata": {},
   "source": [
    "### Partner"
   ]
  },
  {
   "cell_type": "markdown",
   "id": "48df5f81",
   "metadata": {},
   "source": [
    "𝐻0 : There is no relationship between partner and customer churn\n",
    "\n",
    "𝐻𝑎 : There is a relationship between partner and customer churn"
   ]
  },
  {
   "cell_type": "code",
   "execution_count": 49,
   "id": "92feb489",
   "metadata": {},
   "outputs": [
    {
     "data": {
      "text/html": [
       "<div>\n",
       "<style scoped>\n",
       "    .dataframe tbody tr th:only-of-type {\n",
       "        vertical-align: middle;\n",
       "    }\n",
       "\n",
       "    .dataframe tbody tr th {\n",
       "        vertical-align: top;\n",
       "    }\n",
       "\n",
       "    .dataframe thead th {\n",
       "        text-align: right;\n",
       "    }\n",
       "</style>\n",
       "<table border=\"1\" class=\"dataframe\">\n",
       "  <thead>\n",
       "    <tr style=\"text-align: right;\">\n",
       "      <th>partner</th>\n",
       "      <th>No</th>\n",
       "      <th>Yes</th>\n",
       "    </tr>\n",
       "    <tr>\n",
       "      <th>churn</th>\n",
       "      <th></th>\n",
       "      <th></th>\n",
       "    </tr>\n",
       "  </thead>\n",
       "  <tbody>\n",
       "    <tr>\n",
       "      <th>No</th>\n",
       "      <td>1364</td>\n",
       "      <td>1527</td>\n",
       "    </tr>\n",
       "    <tr>\n",
       "      <th>Yes</th>\n",
       "      <td>663</td>\n",
       "      <td>383</td>\n",
       "    </tr>\n",
       "  </tbody>\n",
       "</table>\n",
       "</div>"
      ],
      "text/plain": [
       "partner    No   Yes\n",
       "churn              \n",
       "No       1364  1527\n",
       "Yes       663   383"
      ]
     },
     "execution_count": 49,
     "metadata": {},
     "output_type": "execute_result"
    }
   ],
   "source": [
    "observed = pd.crosstab(train.churn, train.partner)\n",
    "observed"
   ]
  },
  {
   "cell_type": "code",
   "execution_count": 50,
   "id": "aaf6cc9e",
   "metadata": {},
   "outputs": [
    {
     "data": {
      "text/plain": [
       "3.578598859815084e-19"
      ]
     },
     "execution_count": 50,
     "metadata": {},
     "output_type": "execute_result"
    }
   ],
   "source": [
    "info, p, info2, info3 = stats.chi2_contingency(observed)\n",
    "p"
   ]
  },
  {
   "cell_type": "code",
   "execution_count": 51,
   "id": "9f452522",
   "metadata": {},
   "outputs": [
    {
     "name": "stdout",
     "output_type": "stream",
     "text": [
      "reject the null hypothesis\n"
     ]
    }
   ],
   "source": [
    "if p < alpha:\n",
    "    print(\"reject the null hypothesis\")\n",
    "else:\n",
    "    print(\"fail to reject the null hypothesis\")"
   ]
  },
  {
   "cell_type": "markdown",
   "id": "420b8635",
   "metadata": {},
   "source": [
    "### Dependents"
   ]
  },
  {
   "cell_type": "markdown",
   "id": "8a9e5eac",
   "metadata": {},
   "source": [
    "𝐻0 : There is no relationship between dependents and customer churn\n",
    "\n",
    "𝐻𝑎 : There is a relationship between dependents and customer churn"
   ]
  },
  {
   "cell_type": "code",
   "execution_count": 52,
   "id": "19a2a1c1",
   "metadata": {},
   "outputs": [
    {
     "data": {
      "text/html": [
       "<div>\n",
       "<style scoped>\n",
       "    .dataframe tbody tr th:only-of-type {\n",
       "        vertical-align: middle;\n",
       "    }\n",
       "\n",
       "    .dataframe tbody tr th {\n",
       "        vertical-align: top;\n",
       "    }\n",
       "\n",
       "    .dataframe thead th {\n",
       "        text-align: right;\n",
       "    }\n",
       "</style>\n",
       "<table border=\"1\" class=\"dataframe\">\n",
       "  <thead>\n",
       "    <tr style=\"text-align: right;\">\n",
       "      <th>dependents</th>\n",
       "      <th>No</th>\n",
       "      <th>Yes</th>\n",
       "    </tr>\n",
       "    <tr>\n",
       "      <th>churn</th>\n",
       "      <th></th>\n",
       "      <th></th>\n",
       "    </tr>\n",
       "  </thead>\n",
       "  <tbody>\n",
       "    <tr>\n",
       "      <th>No</th>\n",
       "      <td>1885</td>\n",
       "      <td>1006</td>\n",
       "    </tr>\n",
       "    <tr>\n",
       "      <th>Yes</th>\n",
       "      <td>860</td>\n",
       "      <td>186</td>\n",
       "    </tr>\n",
       "  </tbody>\n",
       "</table>\n",
       "</div>"
      ],
      "text/plain": [
       "dependents    No   Yes\n",
       "churn                 \n",
       "No          1885  1006\n",
       "Yes          860   186"
      ]
     },
     "execution_count": 52,
     "metadata": {},
     "output_type": "execute_result"
    }
   ],
   "source": [
    "observed = pd.crosstab(train.churn, train.dependents)\n",
    "observed"
   ]
  },
  {
   "cell_type": "code",
   "execution_count": 53,
   "id": "ece96b86",
   "metadata": {},
   "outputs": [
    {
     "data": {
      "text/plain": [
       "1.5385742575781703e-24"
      ]
     },
     "execution_count": 53,
     "metadata": {},
     "output_type": "execute_result"
    }
   ],
   "source": [
    "info, p, info2, info3 = stats.chi2_contingency(observed)\n",
    "p"
   ]
  },
  {
   "cell_type": "code",
   "execution_count": 54,
   "id": "424d04d0",
   "metadata": {},
   "outputs": [
    {
     "name": "stdout",
     "output_type": "stream",
     "text": [
      "reject the null hypothesis\n"
     ]
    }
   ],
   "source": [
    "if p < alpha:\n",
    "    print(\"reject the null hypothesis\")\n",
    "else:\n",
    "    print(\"fail to reject the null hypothesis\")"
   ]
  },
  {
   "cell_type": "markdown",
   "id": "ed691d60",
   "metadata": {},
   "source": [
    "### multiple lines"
   ]
  },
  {
   "cell_type": "markdown",
   "id": "b65695f8",
   "metadata": {},
   "source": [
    "𝐻0 : There is no relationship between multiple lines and customer churn\n",
    "\n",
    "𝐻𝑎 : There is a relationship between multiple lines and customer churn"
   ]
  },
  {
   "cell_type": "code",
   "execution_count": 55,
   "id": "d5ff14ec",
   "metadata": {},
   "outputs": [
    {
     "data": {
      "text/html": [
       "<div>\n",
       "<style scoped>\n",
       "    .dataframe tbody tr th:only-of-type {\n",
       "        vertical-align: middle;\n",
       "    }\n",
       "\n",
       "    .dataframe tbody tr th {\n",
       "        vertical-align: top;\n",
       "    }\n",
       "\n",
       "    .dataframe thead th {\n",
       "        text-align: right;\n",
       "    }\n",
       "</style>\n",
       "<table border=\"1\" class=\"dataframe\">\n",
       "  <thead>\n",
       "    <tr style=\"text-align: right;\">\n",
       "      <th>multiple_lines</th>\n",
       "      <th>No</th>\n",
       "      <th>Yes</th>\n",
       "    </tr>\n",
       "    <tr>\n",
       "      <th>churn</th>\n",
       "      <th></th>\n",
       "      <th></th>\n",
       "    </tr>\n",
       "  </thead>\n",
       "  <tbody>\n",
       "    <tr>\n",
       "      <th>No</th>\n",
       "      <td>1711</td>\n",
       "      <td>1180</td>\n",
       "    </tr>\n",
       "    <tr>\n",
       "      <th>Yes</th>\n",
       "      <td>557</td>\n",
       "      <td>489</td>\n",
       "    </tr>\n",
       "  </tbody>\n",
       "</table>\n",
       "</div>"
      ],
      "text/plain": [
       "multiple_lines    No   Yes\n",
       "churn                     \n",
       "No              1711  1180\n",
       "Yes              557   489"
      ]
     },
     "execution_count": 55,
     "metadata": {},
     "output_type": "execute_result"
    }
   ],
   "source": [
    "observed = pd.crosstab(train.churn, train.multiple_lines)\n",
    "observed"
   ]
  },
  {
   "cell_type": "code",
   "execution_count": 56,
   "id": "c6deabe0",
   "metadata": {},
   "outputs": [
    {
     "data": {
      "text/plain": [
       "0.0009985216252164028"
      ]
     },
     "execution_count": 56,
     "metadata": {},
     "output_type": "execute_result"
    }
   ],
   "source": [
    "info, p, info2, info3 = stats.chi2_contingency(observed)\n",
    "p"
   ]
  },
  {
   "cell_type": "code",
   "execution_count": 57,
   "id": "1c4c80a1",
   "metadata": {},
   "outputs": [
    {
     "name": "stdout",
     "output_type": "stream",
     "text": [
      "reject the null hypothesis\n"
     ]
    }
   ],
   "source": [
    "if p < alpha:\n",
    "    print(\"reject the null hypothesis\")\n",
    "else:\n",
    "    print(\"fail to reject the null hypothesis\")"
   ]
  },
  {
   "cell_type": "markdown",
   "id": "8687e257",
   "metadata": {},
   "source": [
    "### online security"
   ]
  },
  {
   "cell_type": "markdown",
   "id": "2a10a421",
   "metadata": {},
   "source": [
    "𝐻0 : There is no relationship between online security and customer churn\n",
    "\n",
    "𝐻𝑎 : There is a relationship between online security and customer churn"
   ]
  },
  {
   "cell_type": "code",
   "execution_count": 58,
   "id": "6cb44968",
   "metadata": {},
   "outputs": [
    {
     "data": {
      "text/html": [
       "<div>\n",
       "<style scoped>\n",
       "    .dataframe tbody tr th:only-of-type {\n",
       "        vertical-align: middle;\n",
       "    }\n",
       "\n",
       "    .dataframe tbody tr th {\n",
       "        vertical-align: top;\n",
       "    }\n",
       "\n",
       "    .dataframe thead th {\n",
       "        text-align: right;\n",
       "    }\n",
       "</style>\n",
       "<table border=\"1\" class=\"dataframe\">\n",
       "  <thead>\n",
       "    <tr style=\"text-align: right;\">\n",
       "      <th>online_security</th>\n",
       "      <th>No</th>\n",
       "      <th>Yes</th>\n",
       "    </tr>\n",
       "    <tr>\n",
       "      <th>churn</th>\n",
       "      <th></th>\n",
       "      <th></th>\n",
       "    </tr>\n",
       "  </thead>\n",
       "  <tbody>\n",
       "    <tr>\n",
       "      <th>No</th>\n",
       "      <td>1902</td>\n",
       "      <td>989</td>\n",
       "    </tr>\n",
       "    <tr>\n",
       "      <th>Yes</th>\n",
       "      <td>883</td>\n",
       "      <td>163</td>\n",
       "    </tr>\n",
       "  </tbody>\n",
       "</table>\n",
       "</div>"
      ],
      "text/plain": [
       "online_security    No  Yes\n",
       "churn                     \n",
       "No               1902  989\n",
       "Yes               883  163"
      ]
     },
     "execution_count": 58,
     "metadata": {},
     "output_type": "execute_result"
    }
   ],
   "source": [
    "observed = pd.crosstab(train.churn, train.online_security)\n",
    "observed"
   ]
  },
  {
   "cell_type": "code",
   "execution_count": 59,
   "id": "316b1beb",
   "metadata": {},
   "outputs": [
    {
     "data": {
      "text/plain": [
       "1.2131172913764837e-29"
      ]
     },
     "execution_count": 59,
     "metadata": {},
     "output_type": "execute_result"
    }
   ],
   "source": [
    "info, p, info2, info3 = stats.chi2_contingency(observed)\n",
    "p"
   ]
  },
  {
   "cell_type": "code",
   "execution_count": 60,
   "id": "10af949c",
   "metadata": {},
   "outputs": [
    {
     "name": "stdout",
     "output_type": "stream",
     "text": [
      "reject the null hypothesis\n"
     ]
    }
   ],
   "source": [
    "if p < alpha:\n",
    "    print(\"reject the null hypothesis\")\n",
    "else:\n",
    "    print(\"fail to reject the null hypothesis\")"
   ]
  },
  {
   "cell_type": "markdown",
   "id": "a571201e",
   "metadata": {},
   "source": [
    "### online backup"
   ]
  },
  {
   "cell_type": "markdown",
   "id": "a0535e3e",
   "metadata": {},
   "source": [
    "𝐻0 : There is no relationship between online backup and customer churn\n",
    "\n",
    "𝐻𝑎 : There is a relationship between online backup and customer churn"
   ]
  },
  {
   "cell_type": "code",
   "execution_count": 61,
   "id": "b6461d6d",
   "metadata": {},
   "outputs": [
    {
     "name": "stdout",
     "output_type": "stream",
     "text": [
      "reject the null hypothesis\n"
     ]
    }
   ],
   "source": [
    "observed = pd.crosstab(train.churn, train.online_backup)\n",
    "observed\n",
    "info, p, info2, info3 = stats.chi2_contingency(observed)\n",
    "if p < alpha:\n",
    "    print(\"reject the null hypothesis\")\n",
    "else:\n",
    "    print(\"fail to reject the null hypothesis\")"
   ]
  },
  {
   "cell_type": "markdown",
   "id": "0c9630f3",
   "metadata": {},
   "source": [
    "### device protection"
   ]
  },
  {
   "cell_type": "markdown",
   "id": "b18f466b",
   "metadata": {},
   "source": [
    "𝐻0 : There is no relationship between device protection and customer churn\n",
    "\n",
    "𝐻𝑎 : There is a relationship between device protection and customer churn"
   ]
  },
  {
   "cell_type": "code",
   "execution_count": 62,
   "id": "ae9f0281",
   "metadata": {},
   "outputs": [
    {
     "name": "stdout",
     "output_type": "stream",
     "text": [
      "reject the null hypothesis\n"
     ]
    }
   ],
   "source": [
    "observed = pd.crosstab(train.churn, train.device_protection)\n",
    "observed\n",
    "info, p, info2, info3 = stats.chi2_contingency(observed)\n",
    "if p < alpha:\n",
    "    print(\"reject the null hypothesis\")\n",
    "else:\n",
    "    print(\"fail to reject the null hypothesis\")"
   ]
  },
  {
   "cell_type": "markdown",
   "id": "4d6c3b73",
   "metadata": {},
   "source": [
    "### tech support"
   ]
  },
  {
   "cell_type": "markdown",
   "id": "bc94bbf0",
   "metadata": {},
   "source": [
    "𝐻0 : There is no relationship between tech support and customer churn\n",
    "\n",
    "𝐻𝑎 : There is a relationship between tech support and customer churn"
   ]
  },
  {
   "cell_type": "code",
   "execution_count": 63,
   "id": "b5c001a6",
   "metadata": {},
   "outputs": [
    {
     "name": "stdout",
     "output_type": "stream",
     "text": [
      "reject the null hypothesis\n"
     ]
    }
   ],
   "source": [
    "observed = pd.crosstab(train.churn, train.tech_support)\n",
    "observed\n",
    "info, p, info2, info3 = stats.chi2_contingency(observed)\n",
    "if p < alpha:\n",
    "    print(\"reject the null hypothesis\")\n",
    "else:\n",
    "    print(\"fail to reject the null hypothesis\")"
   ]
  },
  {
   "cell_type": "markdown",
   "id": "bf655503",
   "metadata": {},
   "source": [
    "### streaming movies"
   ]
  },
  {
   "cell_type": "markdown",
   "id": "4e4fe47f",
   "metadata": {},
   "source": [
    "𝐻0 : There is no relationship between streaming movies and customer churn\n",
    "\n",
    "𝐻𝑎 : There is a relationship between streaming movies and customer churn"
   ]
  },
  {
   "cell_type": "code",
   "execution_count": 64,
   "id": "e5d325f7",
   "metadata": {},
   "outputs": [
    {
     "name": "stdout",
     "output_type": "stream",
     "text": [
      "reject the null hypothesis\n"
     ]
    }
   ],
   "source": [
    "observed = pd.crosstab(train.churn, train.streaming_movies)\n",
    "observed\n",
    "info, p, info2, info3 = stats.chi2_contingency(observed)\n",
    "if p < alpha:\n",
    "    print(\"reject the null hypothesis\")\n",
    "else:\n",
    "    print(\"fail to reject the null hypothesis\")"
   ]
  },
  {
   "cell_type": "markdown",
   "id": "8f9a2f81",
   "metadata": {},
   "source": [
    "### paperless billing"
   ]
  },
  {
   "cell_type": "markdown",
   "id": "69c491eb",
   "metadata": {},
   "source": [
    "𝐻0 : There is no relationship between streaming movies and customer churn\n",
    "\n",
    "𝐻𝑎 : There is a relationship between streaming movies and customer churn"
   ]
  },
  {
   "cell_type": "code",
   "execution_count": 65,
   "id": "33abf6b3",
   "metadata": {},
   "outputs": [
    {
     "name": "stdout",
     "output_type": "stream",
     "text": [
      "reject the null hypothesis\n"
     ]
    }
   ],
   "source": [
    "observed = pd.crosstab(train.churn, train.paperless_billing)\n",
    "observed\n",
    "info, p, info2, info3 = stats.chi2_contingency(observed)\n",
    "if p < alpha:\n",
    "    print(\"reject the null hypothesis\")\n",
    "else:\n",
    "    print(\"fail to reject the null hypothesis\")"
   ]
  },
  {
   "cell_type": "markdown",
   "id": "eb588bb2",
   "metadata": {},
   "source": [
    "### tenure"
   ]
  },
  {
   "cell_type": "code",
   "execution_count": 66,
   "id": "e631ee36",
   "metadata": {},
   "outputs": [
    {
     "name": "stdout",
     "output_type": "stream",
     "text": [
      "-23.413234891011875 8.47428580109463e-98 0.05\n"
     ]
    }
   ],
   "source": [
    "churn_sample = train[train.churn == 'Yes'].tenure\n",
    "overall_mean = train.tenure.mean()\n",
    "\n",
    "t, p = stats.ttest_1samp(churn_sample, overall_mean)\n",
    "\n",
    "print(t, p, alpha)"
   ]
  },
  {
   "cell_type": "code",
   "execution_count": 67,
   "id": "9cb867ae",
   "metadata": {},
   "outputs": [
    {
     "name": "stdout",
     "output_type": "stream",
     "text": [
      "We fail to reject $H_{0}$\n"
     ]
    }
   ],
   "source": [
    "if p > alpha:\n",
    "    print(\"We fail to reject $H_{0}$\")\n",
    "elif t < 0:\n",
    "    print(\"We fail to reject $H_{0}$\")\n",
    "else:\n",
    "    print(\"We reject $H_{0}$\")"
   ]
  },
  {
   "cell_type": "code",
   "execution_count": 68,
   "id": "a2830788",
   "metadata": {},
   "outputs": [
    {
     "data": {
      "text/plain": [
       "<AxesSubplot:xlabel='churn', ylabel='tenure'>"
      ]
     },
     "execution_count": 68,
     "metadata": {},
     "output_type": "execute_result"
    },
    {
     "data": {
      "image/png": "[encoded data removed]",
      "text/plain": [
       "<Figure size 432x288 with 1 Axes>"
      ]
     },
     "metadata": {
      "needs_background": "light"
     },
     "output_type": "display_data"
    }
   ],
   "source": [
    "sns.barplot(x='churn',y='tenure',data=train) "
   ]
  },
  {
   "cell_type": "code",
   "execution_count": 368,
   "id": "d77757e1",
   "metadata": {},
   "outputs": [
    {
     "data": {
      "text/plain": [
       "5919            DSL\n",
       "1915    Fiber optic\n",
       "5054           None\n",
       "2355           None\n",
       "6279            DSL\n",
       "           ...     \n",
       "394     Fiber optic\n",
       "3763    Fiber optic\n",
       "3444           None\n",
       "1002    Fiber optic\n",
       "4192           None\n",
       "Name: internet_service_type, Length: 3937, dtype: object"
      ]
     },
     "execution_count": 368,
     "metadata": {},
     "output_type": "execute_result"
    }
   ],
   "source": [
    "train.internet_service_type"
   ]
  },
  {
   "cell_type": "code",
   "execution_count": 384,
   "id": "92a01d67",
   "metadata": {},
   "outputs": [
    {
     "name": "stdout",
     "output_type": "stream",
     "text": [
      "194.0908851239243 0.0 0.05\n"
     ]
    }
   ],
   "source": [
    "churn_sample = train[train.internet_service_type == 'Fiber optic'].monthly_charges\n",
    "overall_mean = train.tenure.mean()\n",
    "\n",
    "t, p = stats.ttest_1samp(churn_sample, overall_mean)\n",
    "\n",
    "print(t, p, alpha)"
   ]
  },
  {
   "cell_type": "code",
   "execution_count": 385,
   "id": "d966b4da",
   "metadata": {},
   "outputs": [
    {
     "name": "stdout",
     "output_type": "stream",
     "text": [
      "We reject $H_{0}$\n"
     ]
    }
   ],
   "source": [
    "if p > alpha:\n",
    "    print(\"We fail to reject $H_{0}$\")\n",
    "elif t < 0:\n",
    "    print(\"We fail to reject $H_{0}$\")\n",
    "else:\n",
    "    print(\"We reject $H_{0}$\")"
   ]
  },
  {
   "cell_type": "code",
   "execution_count": 377,
   "id": "33006fa6",
   "metadata": {},
   "outputs": [
    {
     "data": {
      "text/plain": [
       "internet_service_type\n",
       "DSL            58.405564\n",
       "Fiber optic    91.841405\n",
       "None           21.056747\n",
       "Name: monthly_charges, dtype: float64"
      ]
     },
     "execution_count": 377,
     "metadata": {},
     "output_type": "execute_result"
    }
   ],
   "source": [
    "train.monthly_charges.groupby(train.internet_service_type).mean()"
   ]
  },
  {
   "cell_type": "code",
   "execution_count": 378,
   "id": "1310a1b6",
   "metadata": {},
   "outputs": [
    {
     "data": {
      "text/plain": [
       "Fiber optic    1722\n",
       "DSL            1348\n",
       "None            867\n",
       "Name: internet_service_type, dtype: int64"
      ]
     },
     "execution_count": 378,
     "metadata": {},
     "output_type": "execute_result"
    }
   ],
   "source": [
    "train.internet_service_type.value_counts()"
   ]
  },
  {
   "cell_type": "markdown",
   "id": "a928b746",
   "metadata": {},
   "source": [
    "## Modeling"
   ]
  },
  {
   "cell_type": "markdown",
   "id": "5093b867",
   "metadata": {},
   "source": [
    "Baseline Accuracy"
   ]
  },
  {
   "cell_type": "code",
   "execution_count": 69,
   "id": "2a1682b8",
   "metadata": {},
   "outputs": [
    {
     "data": {
      "text/plain": [
       "0.7343154686309372"
      ]
     },
     "execution_count": 69,
     "metadata": {},
     "output_type": "execute_result"
    }
   ],
   "source": [
    "baseline_accuracy = ((train.churn == 'No').sum() / len(train.churn))\n",
    "baseline_accuracy"
   ]
  },
  {
   "cell_type": "markdown",
   "id": "1eb923d8",
   "metadata": {},
   "source": [
    "### Decision Tree"
   ]
  },
  {
   "cell_type": "code",
   "execution_count": 70,
   "id": "3254664d",
   "metadata": {},
   "outputs": [
    {
     "data": {
      "text/plain": [
       "e_gender_male              uint8\n",
       "e_partner                  uint8\n",
       "e_dependents               uint8\n",
       "e_phone_service            uint8\n",
       "e_multiple_lines           uint8\n",
       "e_tech_support             uint8\n",
       "e_tv_stream                uint8\n",
       "e_movies_stream            uint8\n",
       "e_paperless_bill           uint8\n",
       "e_online_backup            uint8\n",
       "e_online_sec               uint8\n",
       "e_device_protection        uint8\n",
       "e_churn                    uint8\n",
       "e_fiber_optic              uint8\n",
       "e_no_internet              uint8\n",
       "e_cc_auto                  uint8\n",
       "e_check_electric           uint8\n",
       "e_check_mail               uint8\n",
       "e_oneyr                    uint8\n",
       "e_twoyr                    uint8\n",
       "gender                    object\n",
       "senior_citizen             int64\n",
       "partner                   object\n",
       "dependents                object\n",
       "tenure                     int64\n",
       "phone_service             object\n",
       "multiple_lines            object\n",
       "online_security           object\n",
       "online_backup             object\n",
       "device_protection         object\n",
       "tech_support              object\n",
       "streaming_tv              object\n",
       "streaming_movies          object\n",
       "paperless_billing         object\n",
       "monthly_charges          float64\n",
       "total_charges            float64\n",
       "churn                     object\n",
       "internet_service_type     object\n",
       "payment_type              object\n",
       "contract_type             object\n",
       "dtype: object"
      ]
     },
     "execution_count": 70,
     "metadata": {},
     "output_type": "execute_result"
    }
   ],
   "source": [
    "train.dtypes"
   ]
  },
  {
   "cell_type": "code",
   "execution_count": 72,
   "id": "a41d6e72",
   "metadata": {},
   "outputs": [],
   "source": [
    "X_train = train.drop(columns=['e_churn', 'churn','gender','partner', 'dependents', 'phone_service',\n",
    "                             'multiple_lines', 'online_security', 'online_backup', 'device_protection',\n",
    "                             'tech_support', 'streaming_tv', 'streaming_movies', 'paperless_billing',\n",
    "                             'total_charges', 'internet_service_type', 'payment_type', 'contract_type'])\n",
    "y_train = train.churn\n",
    "\n",
    "X_validate = validate.drop(columns=['e_churn', 'churn','gender','partner', 'dependents', 'phone_service',\n",
    "                             'multiple_lines', 'online_security', 'online_backup', 'device_protection',\n",
    "                             'tech_support', 'streaming_tv', 'streaming_movies', 'paperless_billing',\n",
    "                             'total_charges', 'internet_service_type', 'payment_type', 'contract_type'])\n",
    "y_validate = validate.churn\n",
    "\n",
    "X_test = test.drop(columns=['e_churn', 'churn','gender','partner', 'dependents', 'phone_service',\n",
    "                             'multiple_lines', 'online_security', 'online_backup', 'device_protection',\n",
    "                             'tech_support', 'streaming_tv', 'streaming_movies', 'paperless_billing',\n",
    "                             'total_charges', 'internet_service_type', 'payment_type', 'contract_type'])\n",
    "y_test = test.churn"
   ]
  },
  {
   "cell_type": "code",
   "execution_count": 73,
   "id": "8a48dc0a",
   "metadata": {},
   "outputs": [],
   "source": [
    "clf = DecisionTreeClassifier(max_depth=3, random_state=123)"
   ]
  },
  {
   "cell_type": "code",
   "execution_count": 74,
   "id": "17024720",
   "metadata": {},
   "outputs": [],
   "source": [
    "clf = clf.fit(X_train, y_train)"
   ]
  },
  {
   "cell_type": "code",
   "execution_count": 75,
   "id": "56637147",
   "metadata": {},
   "outputs": [
    {
     "data": {
      "text/plain": [
       "[Text(558.0, 475.65000000000003, 'tenure <= 15.5\\ngini = 0.39\\nsamples = 3937\\nvalue = [2891, 1046]'),\n",
       " Text(279.0, 339.75, 'e_fiber_optic <= 0.5\\ngini = 0.498\\nsamples = 1371\\nvalue = [733, 638]'),\n",
       " Text(139.5, 203.85000000000002, 'tenure <= 3.5\\ngini = 0.416\\nsamples = 804\\nvalue = [567, 237]'),\n",
       " Text(69.75, 67.94999999999999, 'gini = 0.491\\nsamples = 356\\nvalue = [202, 154]'),\n",
       " Text(209.25, 67.94999999999999, 'gini = 0.302\\nsamples = 448\\nvalue = [365, 83]'),\n",
       " Text(418.5, 203.85000000000002, 'tenure <= 1.5\\ngini = 0.414\\nsamples = 567\\nvalue = [166, 401]'),\n",
       " Text(348.75, 67.94999999999999, 'gini = 0.206\\nsamples = 129\\nvalue = [15, 114]'),\n",
       " Text(488.25, 67.94999999999999, 'gini = 0.452\\nsamples = 438\\nvalue = [151, 287]'),\n",
       " Text(837.0, 339.75, 'e_fiber_optic <= 0.5\\ngini = 0.267\\nsamples = 2566\\nvalue = [2158, 408]'),\n",
       " Text(697.5, 203.85000000000002, 'e_twoyr <= 0.5\\ngini = 0.099\\nsamples = 1411\\nvalue = [1337, 74]'),\n",
       " Text(627.75, 67.94999999999999, 'gini = 0.155\\nsamples = 742\\nvalue = [679, 63]'),\n",
       " Text(767.25, 67.94999999999999, 'gini = 0.032\\nsamples = 669\\nvalue = [658, 11]'),\n",
       " Text(976.5, 203.85000000000002, 'tenure <= 49.5\\ngini = 0.411\\nsamples = 1155\\nvalue = [821, 334]'),\n",
       " Text(906.75, 67.94999999999999, 'gini = 0.484\\nsamples = 597\\nvalue = [352, 245]'),\n",
       " Text(1046.25, 67.94999999999999, 'gini = 0.268\\nsamples = 558\\nvalue = [469, 89]')]"
      ]
     },
     "execution_count": 75,
     "metadata": {},
     "output_type": "execute_result"
    },
    {
     "data": {
      "image/png": "[encoded data removed]",
      "text/plain": [
       "<Figure size 1440x720 with 1 Axes>"
      ]
     },
     "metadata": {
      "needs_background": "light"
     },
     "output_type": "display_data"
    }
   ],
   "source": [
    "plt.figure(figsize=(20, 10))\n",
    "plot_tree(clf, feature_names=X_train.columns, rounded=True)"
   ]
  },
  {
   "cell_type": "code",
   "execution_count": 122,
   "id": "849271e0",
   "metadata": {},
   "outputs": [],
   "source": [
    "clf = DecisionTreeClassifier(max_depth=4, random_state=123)"
   ]
  },
  {
   "cell_type": "code",
   "execution_count": 123,
   "id": "f09211e2",
   "metadata": {},
   "outputs": [],
   "source": [
    "clf = clf.fit(X_train, y_train)"
   ]
  },
  {
   "cell_type": "code",
   "execution_count": 124,
   "id": "8ac6173b",
   "metadata": {},
   "outputs": [
    {
     "data": {
      "text/plain": [
       "[Text(558.0, 489.24, 'tenure <= 15.5\\ngini = 0.39\\nsamples = 3937\\nvalue = [2891, 1046]'),\n",
       " Text(279.0, 380.52000000000004, 'e_fiber_optic <= 0.5\\ngini = 0.498\\nsamples = 1371\\nvalue = [733, 638]'),\n",
       " Text(139.5, 271.8, 'tenure <= 3.5\\ngini = 0.416\\nsamples = 804\\nvalue = [567, 237]'),\n",
       " Text(69.75, 163.08000000000004, 'e_no_internet <= 0.5\\ngini = 0.491\\nsamples = 356\\nvalue = [202, 154]'),\n",
       " Text(34.875, 54.360000000000014, 'gini = 0.495\\nsamples = 203\\nvalue = [91, 112]'),\n",
       " Text(104.625, 54.360000000000014, 'gini = 0.398\\nsamples = 153\\nvalue = [111, 42]'),\n",
       " Text(209.25, 163.08000000000004, 'monthly_charges <= 20.925\\ngini = 0.302\\nsamples = 448\\nvalue = [365, 83]'),\n",
       " Text(174.375, 54.360000000000014, 'gini = 0.111\\nsamples = 152\\nvalue = [143, 9]'),\n",
       " Text(244.125, 54.360000000000014, 'gini = 0.375\\nsamples = 296\\nvalue = [222, 74]'),\n",
       " Text(418.5, 271.8, 'tenure <= 1.5\\ngini = 0.414\\nsamples = 567\\nvalue = [166, 401]'),\n",
       " Text(348.75, 163.08000000000004, 'e_tech_support <= 0.5\\ngini = 0.206\\nsamples = 129\\nvalue = [15, 114]'),\n",
       " Text(313.875, 54.360000000000014, 'gini = 0.176\\nsamples = 123\\nvalue = [12, 111]'),\n",
       " Text(383.625, 54.360000000000014, 'gini = 0.5\\nsamples = 6\\nvalue = [3, 3]'),\n",
       " Text(488.25, 163.08000000000004, 'monthly_charges <= 74.125\\ngini = 0.452\\nsamples = 438\\nvalue = [151, 287]'),\n",
       " Text(453.375, 54.360000000000014, 'gini = 0.499\\nsamples = 75\\nvalue = [39, 36]'),\n",
       " Text(523.125, 54.360000000000014, 'gini = 0.427\\nsamples = 363\\nvalue = [112, 251]'),\n",
       " Text(837.0, 380.52000000000004, 'e_fiber_optic <= 0.5\\ngini = 0.267\\nsamples = 2566\\nvalue = [2158, 408]'),\n",
       " Text(697.5, 271.8, 'e_twoyr <= 0.5\\ngini = 0.099\\nsamples = 1411\\nvalue = [1337, 74]'),\n",
       " Text(627.75, 163.08000000000004, 'monthly_charges <= 24.875\\ngini = 0.155\\nsamples = 742\\nvalue = [679, 63]'),\n",
       " Text(592.875, 54.360000000000014, 'gini = 0.03\\nsamples = 197\\nvalue = [194, 3]'),\n",
       " Text(662.625, 54.360000000000014, 'gini = 0.196\\nsamples = 545\\nvalue = [485, 60]'),\n",
       " Text(767.25, 163.08000000000004, 'senior_citizen <= 0.5\\ngini = 0.032\\nsamples = 669\\nvalue = [658, 11]'),\n",
       " Text(732.375, 54.360000000000014, 'gini = 0.022\\nsamples = 632\\nvalue = [625, 7]'),\n",
       " Text(802.125, 54.360000000000014, 'gini = 0.193\\nsamples = 37\\nvalue = [33, 4]'),\n",
       " Text(976.5, 271.8, 'tenure <= 49.5\\ngini = 0.411\\nsamples = 1155\\nvalue = [821, 334]'),\n",
       " Text(906.75, 163.08000000000004, 'e_oneyr <= 0.5\\ngini = 0.484\\nsamples = 597\\nvalue = [352, 245]'),\n",
       " Text(871.875, 54.360000000000014, 'gini = 0.495\\nsamples = 493\\nvalue = [270, 223]'),\n",
       " Text(941.625, 54.360000000000014, 'gini = 0.334\\nsamples = 104\\nvalue = [82, 22]'),\n",
       " Text(1046.25, 163.08000000000004, 'e_twoyr <= 0.5\\ngini = 0.268\\nsamples = 558\\nvalue = [469, 89]'),\n",
       " Text(1011.375, 54.360000000000014, 'gini = 0.342\\nsamples = 333\\nvalue = [260, 73]'),\n",
       " Text(1081.125, 54.360000000000014, 'gini = 0.132\\nsamples = 225\\nvalue = [209, 16]')]"
      ]
     },
     "execution_count": 124,
     "metadata": {},
     "output_type": "execute_result"
    },
    {
     "data": {
      "image/png": "[encoded data removed]",
      "text/plain": [
       "<Figure size 1440x720 with 1 Axes>"
      ]
     },
     "metadata": {
      "needs_background": "light"
     },
     "output_type": "display_data"
    }
   ],
   "source": [
    "plt.figure(figsize=(20, 10))\n",
    "plot_tree(clf, feature_names=X_train.columns, rounded=True)"
   ]
  },
  {
   "cell_type": "code",
   "execution_count": 125,
   "id": "464cd55a",
   "metadata": {},
   "outputs": [
    {
     "data": {
      "text/plain": [
       "array(['No', 'No', 'No', 'No', 'No'], dtype=object)"
      ]
     },
     "execution_count": 125,
     "metadata": {},
     "output_type": "execute_result"
    }
   ],
   "source": [
    "y_pred = clf.predict(X_train)\n",
    "y_pred[0:5]"
   ]
  },
  {
   "cell_type": "code",
   "execution_count": 126,
   "id": "48e1cd6e",
   "metadata": {},
   "outputs": [
    {
     "data": {
      "text/plain": [
       "array([[0.88990826, 0.11009174],\n",
       "       [0.78078078, 0.21921922],\n",
       "       [0.88990826, 0.11009174],\n",
       "       [0.7254902 , 0.2745098 ],\n",
       "       [0.88990826, 0.11009174]])"
      ]
     },
     "execution_count": 126,
     "metadata": {},
     "output_type": "execute_result"
    }
   ],
   "source": [
    "y_pred_proba = clf.predict_proba(X_train)\n",
    "y_pred_proba[0:5]"
   ]
  },
  {
   "cell_type": "code",
   "execution_count": 127,
   "id": "d71a1cb2",
   "metadata": {},
   "outputs": [
    {
     "name": "stdout",
     "output_type": "stream",
     "text": [
      "Accuracy of Decision Tree classifier on training set: 0.80\n"
     ]
    }
   ],
   "source": [
    "print('Accuracy of Decision Tree classifier on training set: {:.2f}'\n",
    "      .format(clf.score(X_train, y_train)))"
   ]
  },
  {
   "cell_type": "code",
   "execution_count": 128,
   "id": "88b1756d",
   "metadata": {},
   "outputs": [
    {
     "name": "stdout",
     "output_type": "stream",
     "text": [
      "              precision    recall  f1-score   support\n",
      "\n",
      "          No       0.82      0.93      0.87      2891\n",
      "         Yes       0.69      0.45      0.55      1046\n",
      "\n",
      "    accuracy                           0.80      3937\n",
      "   macro avg       0.76      0.69      0.71      3937\n",
      "weighted avg       0.79      0.80      0.79      3937\n",
      "\n"
     ]
    }
   ],
   "source": [
    "print(classification_report(y_train, y_pred))"
   ]
  },
  {
   "cell_type": "code",
   "execution_count": 129,
   "id": "631f1d74",
   "metadata": {},
   "outputs": [
    {
     "name": "stdout",
     "output_type": "stream",
     "text": [
      "Accuracy of Decision Tree classifier on validate set: 0.78\n"
     ]
    }
   ],
   "source": [
    "print('Accuracy of Decision Tree classifier on validate set: {:.2f}'\n",
    "     .format(clf.score(X_validate, y_validate)))"
   ]
  },
  {
   "cell_type": "code",
   "execution_count": 130,
   "id": "2001b17d",
   "metadata": {},
   "outputs": [],
   "source": [
    "# Repeat Decision Tree with different max_depth paying close attention to recall"
   ]
  },
  {
   "cell_type": "markdown",
   "id": "e97c8d20",
   "metadata": {},
   "source": [
    "### Random Forest"
   ]
  },
  {
   "cell_type": "code",
   "execution_count": 187,
   "id": "a021cb8c",
   "metadata": {},
   "outputs": [
    {
     "data": {
      "text/plain": [
       "RandomForestClassifier(max_depth=8, random_state=123)"
      ]
     },
     "execution_count": 187,
     "metadata": {},
     "output_type": "execute_result"
    }
   ],
   "source": [
    "rf = RandomForestClassifier(max_depth=8, \n",
    "                            random_state=123)\n",
    "rf"
   ]
  },
  {
   "cell_type": "code",
   "execution_count": 188,
   "id": "6c1bef1f",
   "metadata": {},
   "outputs": [
    {
     "data": {
      "text/plain": [
       "RandomForestClassifier(max_depth=8, random_state=123)"
      ]
     },
     "execution_count": 188,
     "metadata": {},
     "output_type": "execute_result"
    }
   ],
   "source": [
    "rf.fit(X_train, y_train)"
   ]
  },
  {
   "cell_type": "code",
   "execution_count": 189,
   "id": "0342310b",
   "metadata": {},
   "outputs": [
    {
     "data": {
      "text/plain": [
       "array([0.0119177 , 0.01644875, 0.01473822, 0.00635085, 0.01326485,\n",
       "       0.03405379, 0.01115896, 0.01217801, 0.02359098, 0.01812471,\n",
       "       0.03969525, 0.01447702, 0.12244777, 0.03463868, 0.01258048,\n",
       "       0.05068026, 0.0093239 , 0.05238402, 0.08506702, 0.01868925,\n",
       "       0.26079763, 0.1373919 ])"
      ]
     },
     "execution_count": 189,
     "metadata": {},
     "output_type": "execute_result"
    }
   ],
   "source": [
    "feature_importances = rf.feature_importances_\n",
    "feature_importances"
   ]
  },
  {
   "cell_type": "code",
   "execution_count": 190,
   "id": "0a4e7ab9",
   "metadata": {},
   "outputs": [
    {
     "data": {
      "text/plain": [
       "tenure                 0.260798\n",
       "monthly_charges        0.137392\n",
       "e_fiber_optic          0.122448\n",
       "e_twoyr                0.085067\n",
       "e_oneyr                0.052384\n",
       "e_check_electric       0.050680\n",
       "e_online_sec           0.039695\n",
       "e_no_internet          0.034639\n",
       "e_tech_support         0.034054\n",
       "e_paperless_bill       0.023591\n",
       "senior_citizen         0.018689\n",
       "e_online_backup        0.018125\n",
       "e_partner              0.016449\n",
       "e_dependents           0.014738\n",
       "e_device_protection    0.014477\n",
       "e_multiple_lines       0.013265\n",
       "e_cc_auto              0.012580\n",
       "e_movies_stream        0.012178\n",
       "e_gender_male          0.011918\n",
       "e_tv_stream            0.011159\n",
       "e_check_mail           0.009324\n",
       "e_phone_service        0.006351\n",
       "dtype: float64"
      ]
     },
     "execution_count": 190,
     "metadata": {},
     "output_type": "execute_result"
    }
   ],
   "source": [
    "feature_scores = pd.Series(rf.feature_importances_, index=X_train.columns).sort_values(ascending=False)\n",
    "\n",
    "feature_scores"
   ]
  },
  {
   "cell_type": "code",
   "execution_count": 191,
   "id": "dc6bb9b1",
   "metadata": {},
   "outputs": [
    {
     "data": {
      "text/plain": [
       "(array(['No', 'No', 'No', ..., 'No', 'No', 'No'], dtype=object),\n",
       " array([[0.9256475 , 0.0743525 ],\n",
       "        [0.87541879, 0.12458121],\n",
       "        [0.92810107, 0.07189893],\n",
       "        ...,\n",
       "        [0.98222772, 0.01777228],\n",
       "        [0.57627066, 0.42372934],\n",
       "        [0.82239428, 0.17760572]]))"
      ]
     },
     "execution_count": 191,
     "metadata": {},
     "output_type": "execute_result"
    }
   ],
   "source": [
    "y_pred = rf.predict(X_train)\n",
    "y_pred_proba = rf.predict_proba(X_train)\n",
    "\n",
    "y_pred, y_pred_proba"
   ]
  },
  {
   "cell_type": "code",
   "execution_count": 192,
   "id": "58920d8b",
   "metadata": {},
   "outputs": [
    {
     "name": "stdout",
     "output_type": "stream",
     "text": [
      "Accuracy of random forest classifier on training set: 0.84\n"
     ]
    }
   ],
   "source": [
    "print('Accuracy of random forest classifier on training set: {:.2f}'\n",
    "     .format(rf.score(X_train, y_train)))"
   ]
  },
  {
   "cell_type": "code",
   "execution_count": 193,
   "id": "aacaf7b8",
   "metadata": {},
   "outputs": [
    {
     "name": "stdout",
     "output_type": "stream",
     "text": [
      "              precision    recall  f1-score   support\n",
      "\n",
      "          No       0.86      0.93      0.89      2891\n",
      "         Yes       0.75      0.57      0.65      1046\n",
      "\n",
      "    accuracy                           0.84      3937\n",
      "   macro avg       0.80      0.75      0.77      3937\n",
      "weighted avg       0.83      0.84      0.83      3937\n",
      "\n"
     ]
    }
   ],
   "source": [
    "print(classification_report(y_train, y_pred))"
   ]
  },
  {
   "cell_type": "code",
   "execution_count": 194,
   "id": "7d5f999e",
   "metadata": {},
   "outputs": [
    {
     "name": "stdout",
     "output_type": "stream",
     "text": [
      "Accuracy of random forest classifier on test set: 0.79\n"
     ]
    }
   ],
   "source": [
    "print('Accuracy of random forest classifier on test set: {:.2f}'\n",
    "     .format(rf.score(X_validate, y_validate)))"
   ]
  },
  {
   "cell_type": "markdown",
   "id": "a95b92c8",
   "metadata": {},
   "source": [
    "### K- Nearest Neighbor"
   ]
  },
  {
   "cell_type": "code",
   "execution_count": 324,
   "id": "b42e6e23",
   "metadata": {},
   "outputs": [
    {
     "data": {
      "text/plain": [
       "KNeighborsClassifier(n_neighbors=10)"
      ]
     },
     "execution_count": 324,
     "metadata": {},
     "output_type": "execute_result"
    }
   ],
   "source": [
    "knn = KNeighborsClassifier(n_neighbors=10, weights='uniform')\n",
    "knn.fit(X_train, y_train)"
   ]
  },
  {
   "cell_type": "code",
   "execution_count": 325,
   "id": "2034a01a",
   "metadata": {},
   "outputs": [
    {
     "data": {
      "text/plain": [
       "KNeighborsClassifier()"
      ]
     },
     "execution_count": 325,
     "metadata": {},
     "output_type": "execute_result"
    }
   ],
   "source": [
    "KNeighborsClassifier()"
   ]
  },
  {
   "cell_type": "code",
   "execution_count": 326,
   "id": "ade1e436",
   "metadata": {},
   "outputs": [
    {
     "data": {
      "text/plain": [
       "(array(['No', 'No', 'No', ..., 'No', 'No', 'No'], dtype=object),\n",
       " array([[0.9, 0.1],\n",
       "        [1. , 0. ],\n",
       "        [1. , 0. ],\n",
       "        ...,\n",
       "        [1. , 0. ],\n",
       "        [0.6, 0.4],\n",
       "        [0.9, 0.1]]))"
      ]
     },
     "execution_count": 326,
     "metadata": {},
     "output_type": "execute_result"
    }
   ],
   "source": [
    "y_pred = knn.predict(X_train)\n",
    "y_pred_proba = knn.predict_proba(X_train)\n",
    "y_pred, y_pred_proba"
   ]
  },
  {
   "cell_type": "code",
   "execution_count": 327,
   "id": "b68b8f6c",
   "metadata": {},
   "outputs": [
    {
     "name": "stdout",
     "output_type": "stream",
     "text": [
      "Accuracy of KNN classifier on training set: 0.82\n"
     ]
    }
   ],
   "source": [
    "print('Accuracy of KNN classifier on training set: {:.2f}'\n",
    "     .format(knn.score(X_train, y_train)))"
   ]
  },
  {
   "cell_type": "code",
   "execution_count": 328,
   "id": "dc05bd7d",
   "metadata": {},
   "outputs": [
    {
     "name": "stdout",
     "output_type": "stream",
     "text": [
      "              precision    recall  f1-score   support\n",
      "\n",
      "          No       0.83      0.94      0.88      2891\n",
      "         Yes       0.73      0.48      0.58      1046\n",
      "\n",
      "    accuracy                           0.82      3937\n",
      "   macro avg       0.78      0.71      0.73      3937\n",
      "weighted avg       0.81      0.82      0.80      3937\n",
      "\n"
     ]
    }
   ],
   "source": [
    "print(classification_report(y_train, y_pred))"
   ]
  },
  {
   "cell_type": "code",
   "execution_count": 329,
   "id": "f6494c39",
   "metadata": {},
   "outputs": [
    {
     "name": "stdout",
     "output_type": "stream",
     "text": [
      "Accuracy of KNN classifier on test set: 0.78\n"
     ]
    }
   ],
   "source": [
    "print('Accuracy of KNN classifier on test set: {:.2f}'\n",
    "     .format(knn.score(X_validate, y_validate)))"
   ]
  },
  {
   "cell_type": "markdown",
   "id": "7d259ed7",
   "metadata": {},
   "source": [
    "### Logistic Regression"
   ]
  },
  {
   "cell_type": "code",
   "execution_count": 330,
   "id": "ca0894b3",
   "metadata": {},
   "outputs": [],
   "source": [
    "X_train = train.drop(columns=['e_churn', 'churn','gender','partner', 'dependents', 'phone_service',\n",
    "                             'multiple_lines', 'online_security', 'online_backup', 'device_protection',\n",
    "                             'tech_support', 'streaming_tv', 'streaming_movies', 'paperless_billing',\n",
    "                             'total_charges', 'internet_service_type', 'payment_type', 'contract_type'])\n",
    "y_train = train.e_churn\n",
    "\n",
    "X_validate = validate.drop(columns=['e_churn', 'churn','gender','partner', 'dependents', 'phone_service',\n",
    "                             'multiple_lines', 'online_security', 'online_backup', 'device_protection',\n",
    "                             'tech_support', 'streaming_tv', 'streaming_movies', 'paperless_billing',\n",
    "                             'total_charges', 'internet_service_type', 'payment_type', 'contract_type'])\n",
    "y_validate = validate.e_churn\n",
    "\n",
    "X_test = test.drop(columns=['e_churn', 'churn','gender','partner', 'dependents', 'phone_service',\n",
    "                             'multiple_lines', 'online_security', 'online_backup', 'device_protection',\n",
    "                             'tech_support', 'streaming_tv', 'streaming_movies', 'paperless_billing',\n",
    "                             'total_charges', 'internet_service_type', 'payment_type', 'contract_type'])\n",
    "y_test = test.e_churn"
   ]
  },
  {
   "cell_type": "code",
   "execution_count": 361,
   "id": "a70bd242",
   "metadata": {},
   "outputs": [],
   "source": [
    "logit = LogisticRegression(C=2, random_state=123, intercept_scaling=1, solver='lbfgs')"
   ]
  },
  {
   "cell_type": "code",
   "execution_count": 362,
   "id": "52cf45e0",
   "metadata": {},
   "outputs": [
    {
     "data": {
      "text/plain": [
       "LogisticRegression(C=2, random_state=123)"
      ]
     },
     "execution_count": 362,
     "metadata": {},
     "output_type": "execute_result"
    }
   ],
   "source": [
    "logit.fit(X_train, y_train)\n",
    "LogisticRegression(C=2, random_state=123)"
   ]
  },
  {
   "cell_type": "code",
   "execution_count": 363,
   "id": "bd31906b",
   "metadata": {},
   "outputs": [
    {
     "name": "stdout",
     "output_type": "stream",
     "text": [
      "Coefficient: \n",
      " [[-0.01310908  0.01441406 -0.12292913 -0.78522208  0.26240088 -0.33181251\n",
      "  -0.02790204  0.04187875  0.27499826 -0.14173884 -0.48702407 -0.05687141\n",
      "   0.7094027  -0.55094734 -0.07222425  0.24009045 -0.05939623 -0.72295841\n",
      "  -1.20848272  0.27539511 -0.03374143  0.01389944]]\n",
      "Intercept: \n",
      " [-0.47325855]\n"
     ]
    }
   ],
   "source": [
    "print('Coefficient: \\n', logit.coef_)\n",
    "print('Intercept: \\n', logit.intercept_)"
   ]
  },
  {
   "cell_type": "code",
   "execution_count": 364,
   "id": "b38b17be",
   "metadata": {},
   "outputs": [
    {
     "data": {
      "text/plain": [
       "(array([0, 0, 0, ..., 0, 1, 0], dtype=uint8),\n",
       " array([[0.97075778, 0.02924222],\n",
       "        [0.94156326, 0.05843674],\n",
       "        [0.87691046, 0.12308954],\n",
       "        ...,\n",
       "        [0.9653636 , 0.0346364 ],\n",
       "        [0.47338854, 0.52661146],\n",
       "        [0.84167344, 0.15832656]]))"
      ]
     },
     "execution_count": 364,
     "metadata": {},
     "output_type": "execute_result"
    }
   ],
   "source": [
    "y_pred = logit.predict(X_train)\n",
    "y_pred_proba = logit.predict_proba(X_train)\n",
    "\n",
    "y_pred, y_pred_proba"
   ]
  },
  {
   "cell_type": "code",
   "execution_count": 365,
   "id": "43d90521",
   "metadata": {},
   "outputs": [
    {
     "name": "stdout",
     "output_type": "stream",
     "text": [
      "Accuracy of Logistic Regression classifier on training set: 0.80\n"
     ]
    }
   ],
   "source": [
    "print('Accuracy of Logistic Regression classifier on training set: {:.2f}'\n",
    "     .format(logit.score(X_train, y_train)))"
   ]
  },
  {
   "cell_type": "code",
   "execution_count": null,
   "id": "cecb9bea",
   "metadata": {},
   "outputs": [],
   "source": []
  },
  {
   "cell_type": "code",
   "execution_count": null,
   "id": "cfd3fa2e",
   "metadata": {},
   "outputs": [],
   "source": []
  },
  {
   "cell_type": "code",
   "execution_count": null,
   "id": "a98f4d66",
   "metadata": {},
   "outputs": [],
   "source": []
  },
  {
   "cell_type": "code",
   "execution_count": null,
   "id": "8b49de93",
   "metadata": {},
   "outputs": [],
   "source": []
  },
  {
   "cell_type": "code",
   "execution_count": null,
   "id": "acca11aa",
   "metadata": {},
   "outputs": [],
   "source": []
  }
 ],
 "metadata": {
  "kernelspec": {
   "display_name": "Python 3 (ipykernel)",
   "language": "python",
   "name": "python3"
  },
  "language_info": {
   "codemirror_mode": {
    "name": "ipython",
    "version": 3
   },
   "file_extension": ".py",
   "mimetype": "text/x-python",
   "name": "python",
   "nbconvert_exporter": "python",
   "pygments_lexer": "ipython3",
   "version": "3.9.7"
  }
 },
 "nbformat": 4,
 "nbformat_minor": 5
}
