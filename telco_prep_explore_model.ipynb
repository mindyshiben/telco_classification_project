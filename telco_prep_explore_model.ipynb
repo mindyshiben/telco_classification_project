{
 "cells": [
  {
   "cell_type": "markdown",
   "id": "e92abdfe",
   "metadata": {},
   "source": [
    "## Project goal -\n",
    "Using the Telco data:\n",
    "- determine the drivers of customer churn\n",
    "- make recommendations to decrease churn\n",
    "- present findings to stakeholders"
   ]
  },
  {
   "cell_type": "code",
   "execution_count": 164,
   "id": "5d10662a",
   "metadata": {},
   "outputs": [],
   "source": [
    "import pandas as pd\n",
    "import warnings\n",
    "warnings.filterwarnings(\"ignore\")\n",
    "\n",
    "import numpy as np\n",
    "\n",
    "from pydataset import data\n",
    "\n",
    "from sklearn.model_selection import train_test_split\n",
    "from sklearn.tree import DecisionTreeClassifier, plot_tree\n",
    "from sklearn.metrics import classification_report\n",
    "from sklearn.metrics import confusion_matrix\n",
    "from sklearn.ensemble import RandomForestClassifier\n",
    "from sklearn.neighbors import KNeighborsClassifier\n",
    "from sklearn.linear_model import LogisticRegression\n",
    "\n",
    "import matplotlib.pyplot as plt\n",
    "import seaborn as sns\n",
    "import acquire\n",
    "import prepare"
   ]
  },
  {
   "cell_type": "markdown",
   "id": "eb26c8ba",
   "metadata": {},
   "source": [
    "#### Acquire data"
   ]
  },
  {
   "cell_type": "code",
   "execution_count": 165,
   "id": "0de888bc",
   "metadata": {},
   "outputs": [
    {
     "data": {
      "text/html": [
       "<div>\n",
       "<style scoped>\n",
       "    .dataframe tbody tr th:only-of-type {\n",
       "        vertical-align: middle;\n",
       "    }\n",
       "\n",
       "    .dataframe tbody tr th {\n",
       "        vertical-align: top;\n",
       "    }\n",
       "\n",
       "    .dataframe thead th {\n",
       "        text-align: right;\n",
       "    }\n",
       "</style>\n",
       "<table border=\"1\" class=\"dataframe\">\n",
       "  <thead>\n",
       "    <tr style=\"text-align: right;\">\n",
       "      <th></th>\n",
       "      <th>Unnamed: 0</th>\n",
       "      <th>contract_type_id</th>\n",
       "      <th>payment_type_id</th>\n",
       "      <th>internet_service_type_id</th>\n",
       "      <th>customer_id</th>\n",
       "      <th>gender</th>\n",
       "      <th>senior_citizen</th>\n",
       "      <th>partner</th>\n",
       "      <th>dependents</th>\n",
       "      <th>tenure</th>\n",
       "      <th>...</th>\n",
       "      <th>tech_support</th>\n",
       "      <th>streaming_tv</th>\n",
       "      <th>streaming_movies</th>\n",
       "      <th>paperless_billing</th>\n",
       "      <th>monthly_charges</th>\n",
       "      <th>total_charges</th>\n",
       "      <th>churn</th>\n",
       "      <th>internet_service_type</th>\n",
       "      <th>payment_type</th>\n",
       "      <th>contract_type</th>\n",
       "    </tr>\n",
       "  </thead>\n",
       "  <tbody>\n",
       "    <tr>\n",
       "      <th>0</th>\n",
       "      <td>0</td>\n",
       "      <td>2</td>\n",
       "      <td>2</td>\n",
       "      <td>1</td>\n",
       "      <td>0002-ORFBO</td>\n",
       "      <td>Female</td>\n",
       "      <td>0</td>\n",
       "      <td>Yes</td>\n",
       "      <td>Yes</td>\n",
       "      <td>9</td>\n",
       "      <td>...</td>\n",
       "      <td>Yes</td>\n",
       "      <td>Yes</td>\n",
       "      <td>No</td>\n",
       "      <td>Yes</td>\n",
       "      <td>65.6</td>\n",
       "      <td>593.3</td>\n",
       "      <td>No</td>\n",
       "      <td>DSL</td>\n",
       "      <td>Mailed check</td>\n",
       "      <td>One year</td>\n",
       "    </tr>\n",
       "    <tr>\n",
       "      <th>1</th>\n",
       "      <td>1</td>\n",
       "      <td>1</td>\n",
       "      <td>2</td>\n",
       "      <td>1</td>\n",
       "      <td>0003-MKNFE</td>\n",
       "      <td>Male</td>\n",
       "      <td>0</td>\n",
       "      <td>No</td>\n",
       "      <td>No</td>\n",
       "      <td>9</td>\n",
       "      <td>...</td>\n",
       "      <td>No</td>\n",
       "      <td>No</td>\n",
       "      <td>Yes</td>\n",
       "      <td>No</td>\n",
       "      <td>59.9</td>\n",
       "      <td>542.4</td>\n",
       "      <td>No</td>\n",
       "      <td>DSL</td>\n",
       "      <td>Mailed check</td>\n",
       "      <td>Month-to-month</td>\n",
       "    </tr>\n",
       "    <tr>\n",
       "      <th>2</th>\n",
       "      <td>2</td>\n",
       "      <td>1</td>\n",
       "      <td>1</td>\n",
       "      <td>2</td>\n",
       "      <td>0004-TLHLJ</td>\n",
       "      <td>Male</td>\n",
       "      <td>0</td>\n",
       "      <td>No</td>\n",
       "      <td>No</td>\n",
       "      <td>4</td>\n",
       "      <td>...</td>\n",
       "      <td>No</td>\n",
       "      <td>No</td>\n",
       "      <td>No</td>\n",
       "      <td>Yes</td>\n",
       "      <td>73.9</td>\n",
       "      <td>280.85</td>\n",
       "      <td>Yes</td>\n",
       "      <td>Fiber optic</td>\n",
       "      <td>Electronic check</td>\n",
       "      <td>Month-to-month</td>\n",
       "    </tr>\n",
       "    <tr>\n",
       "      <th>3</th>\n",
       "      <td>3</td>\n",
       "      <td>1</td>\n",
       "      <td>1</td>\n",
       "      <td>2</td>\n",
       "      <td>0011-IGKFF</td>\n",
       "      <td>Male</td>\n",
       "      <td>1</td>\n",
       "      <td>Yes</td>\n",
       "      <td>No</td>\n",
       "      <td>13</td>\n",
       "      <td>...</td>\n",
       "      <td>No</td>\n",
       "      <td>Yes</td>\n",
       "      <td>Yes</td>\n",
       "      <td>Yes</td>\n",
       "      <td>98.0</td>\n",
       "      <td>1237.85</td>\n",
       "      <td>Yes</td>\n",
       "      <td>Fiber optic</td>\n",
       "      <td>Electronic check</td>\n",
       "      <td>Month-to-month</td>\n",
       "    </tr>\n",
       "    <tr>\n",
       "      <th>4</th>\n",
       "      <td>4</td>\n",
       "      <td>1</td>\n",
       "      <td>2</td>\n",
       "      <td>2</td>\n",
       "      <td>0013-EXCHZ</td>\n",
       "      <td>Female</td>\n",
       "      <td>1</td>\n",
       "      <td>Yes</td>\n",
       "      <td>No</td>\n",
       "      <td>3</td>\n",
       "      <td>...</td>\n",
       "      <td>Yes</td>\n",
       "      <td>Yes</td>\n",
       "      <td>No</td>\n",
       "      <td>Yes</td>\n",
       "      <td>83.9</td>\n",
       "      <td>267.4</td>\n",
       "      <td>Yes</td>\n",
       "      <td>Fiber optic</td>\n",
       "      <td>Mailed check</td>\n",
       "      <td>Month-to-month</td>\n",
       "    </tr>\n",
       "  </tbody>\n",
       "</table>\n",
       "<p>5 rows × 25 columns</p>\n",
       "</div>"
      ],
      "text/plain": [
       "   Unnamed: 0  contract_type_id  payment_type_id  internet_service_type_id  \\\n",
       "0           0                 2                2                         1   \n",
       "1           1                 1                2                         1   \n",
       "2           2                 1                1                         2   \n",
       "3           3                 1                1                         2   \n",
       "4           4                 1                2                         2   \n",
       "\n",
       "  customer_id  gender  senior_citizen partner dependents  tenure  ...  \\\n",
       "0  0002-ORFBO  Female               0     Yes        Yes       9  ...   \n",
       "1  0003-MKNFE    Male               0      No         No       9  ...   \n",
       "2  0004-TLHLJ    Male               0      No         No       4  ...   \n",
       "3  0011-IGKFF    Male               1     Yes         No      13  ...   \n",
       "4  0013-EXCHZ  Female               1     Yes         No       3  ...   \n",
       "\n",
       "  tech_support streaming_tv streaming_movies paperless_billing  \\\n",
       "0          Yes          Yes               No               Yes   \n",
       "1           No           No              Yes                No   \n",
       "2           No           No               No               Yes   \n",
       "3           No          Yes              Yes               Yes   \n",
       "4          Yes          Yes               No               Yes   \n",
       "\n",
       "  monthly_charges total_charges churn internet_service_type      payment_type  \\\n",
       "0            65.6         593.3    No                   DSL      Mailed check   \n",
       "1            59.9         542.4    No                   DSL      Mailed check   \n",
       "2            73.9        280.85   Yes           Fiber optic  Electronic check   \n",
       "3            98.0       1237.85   Yes           Fiber optic  Electronic check   \n",
       "4            83.9         267.4   Yes           Fiber optic      Mailed check   \n",
       "\n",
       "    contract_type  \n",
       "0        One year  \n",
       "1  Month-to-month  \n",
       "2  Month-to-month  \n",
       "3  Month-to-month  \n",
       "4  Month-to-month  \n",
       "\n",
       "[5 rows x 25 columns]"
      ]
     },
     "execution_count": 165,
     "metadata": {},
     "output_type": "execute_result"
    }
   ],
   "source": [
    "df = acquire.get_telco_data()\n",
    "df.head()"
   ]
  },
  {
   "cell_type": "markdown",
   "id": "6393b5ac",
   "metadata": {},
   "source": [
    "#### Prepare data"
   ]
  },
  {
   "cell_type": "markdown",
   "id": "44363346",
   "metadata": {},
   "source": [
    "Use prep_telco function to begin cleaning data. This will drop columns that wouldn't be appropriate for the model and create dummy variables to change object types to numeric."
   ]
  },
  {
   "cell_type": "code",
   "execution_count": 171,
   "id": "37bc2637",
   "metadata": {},
   "outputs": [
    {
     "data": {
      "text/plain": [
       "Index(['Unnamed: 0', 'contract_type_id', 'payment_type_id',\n",
       "       'internet_service_type_id', 'customer_id', 'gender', 'senior_citizen',\n",
       "       'partner', 'dependents', 'tenure', 'phone_service', 'multiple_lines',\n",
       "       'online_security', 'online_backup', 'device_protection', 'tech_support',\n",
       "       'streaming_tv', 'streaming_movies', 'paperless_billing',\n",
       "       'monthly_charges', 'total_charges', 'churn', 'internet_service_type',\n",
       "       'payment_type', 'contract_type'],\n",
       "      dtype='object')"
      ]
     },
     "execution_count": 171,
     "metadata": {},
     "output_type": "execute_result"
    }
   ],
   "source": [
    "df.columns"
   ]
  },
  {
   "cell_type": "code",
   "execution_count": 179,
   "id": "bdf71243",
   "metadata": {},
   "outputs": [
    {
     "data": {
      "text/plain": [
       "(No                     3498\n",
       " Yes                    2019\n",
       " No internet service    1526\n",
       " Name: online_security, dtype: int64,\n",
       " No                     3088\n",
       " Yes                    2429\n",
       " No internet service    1526\n",
       " Name: online_backup, dtype: int64,\n",
       " No                     3095\n",
       " Yes                    2422\n",
       " No internet service    1526\n",
       " Name: device_protection, dtype: int64,\n",
       " No                     3473\n",
       " Yes                    2044\n",
       " No internet service    1526\n",
       " Name: tech_support, dtype: int64,\n",
       " No                     2810\n",
       " Yes                    2707\n",
       " No internet service    1526\n",
       " Name: streaming_tv, dtype: int64,\n",
       " No                     2785\n",
       " Yes                    2732\n",
       " No internet service    1526\n",
       " Name: streaming_movies, dtype: int64)"
      ]
     },
     "execution_count": 179,
     "metadata": {},
     "output_type": "execute_result"
    }
   ],
   "source": [
    "df.online_security.value_counts(), df.online_backup.value_counts(), df.device_protection.value_counts(),df.tech_support.value_counts(), df.streaming_tv.value_counts(), df.streaming_movies.value_counts()"
   ]
  },
  {
   "cell_type": "code",
   "execution_count": 183,
   "id": "a548122e",
   "metadata": {},
   "outputs": [],
   "source": [
    "df['online_security'] = df['online_security'].replace({'No internet service':'No'})\n",
    "df['online_backup'] = df['online_backup'].replace({'No internet service':'No'})\n",
    "df['device_protection'] = df['device_protection'].replace({'No internet service':'No'})\n",
    "df['tech_support'] = df['tech_support'].replace({'No internet service':'No'})\n",
    "df['streaming_tv'] = df['streaming_tv'].replace({'No internet service':'No'})\n",
    "df['streaming_movies'] = df['streaming_movies'].replace({'No internet service':'No'})\n",
    "df['multiple_lines'] = df['multiple_lines'].replace({'No phone service':'No'})\n"
   ]
  },
  {
   "cell_type": "code",
   "execution_count": 184,
   "id": "69a45b02",
   "metadata": {},
   "outputs": [
    {
     "data": {
      "text/html": [
       "<div>\n",
       "<style scoped>\n",
       "    .dataframe tbody tr th:only-of-type {\n",
       "        vertical-align: middle;\n",
       "    }\n",
       "\n",
       "    .dataframe tbody tr th {\n",
       "        vertical-align: top;\n",
       "    }\n",
       "\n",
       "    .dataframe thead th {\n",
       "        text-align: right;\n",
       "    }\n",
       "</style>\n",
       "<table border=\"1\" class=\"dataframe\">\n",
       "  <thead>\n",
       "    <tr style=\"text-align: right;\">\n",
       "      <th></th>\n",
       "      <th>Unnamed: 0</th>\n",
       "      <th>contract_type_id</th>\n",
       "      <th>payment_type_id</th>\n",
       "      <th>internet_service_type_id</th>\n",
       "      <th>customer_id</th>\n",
       "      <th>gender</th>\n",
       "      <th>senior_citizen</th>\n",
       "      <th>partner</th>\n",
       "      <th>dependents</th>\n",
       "      <th>tenure</th>\n",
       "      <th>...</th>\n",
       "      <th>tech_support</th>\n",
       "      <th>streaming_tv</th>\n",
       "      <th>streaming_movies</th>\n",
       "      <th>paperless_billing</th>\n",
       "      <th>monthly_charges</th>\n",
       "      <th>total_charges</th>\n",
       "      <th>churn</th>\n",
       "      <th>internet_service_type</th>\n",
       "      <th>payment_type</th>\n",
       "      <th>contract_type</th>\n",
       "    </tr>\n",
       "  </thead>\n",
       "  <tbody>\n",
       "    <tr>\n",
       "      <th>0</th>\n",
       "      <td>0</td>\n",
       "      <td>2</td>\n",
       "      <td>2</td>\n",
       "      <td>1</td>\n",
       "      <td>0002-ORFBO</td>\n",
       "      <td>Female</td>\n",
       "      <td>0</td>\n",
       "      <td>Yes</td>\n",
       "      <td>Yes</td>\n",
       "      <td>9</td>\n",
       "      <td>...</td>\n",
       "      <td>Yes</td>\n",
       "      <td>Yes</td>\n",
       "      <td>No</td>\n",
       "      <td>Yes</td>\n",
       "      <td>65.6</td>\n",
       "      <td>593.3</td>\n",
       "      <td>No</td>\n",
       "      <td>DSL</td>\n",
       "      <td>Mailed check</td>\n",
       "      <td>One year</td>\n",
       "    </tr>\n",
       "    <tr>\n",
       "      <th>1</th>\n",
       "      <td>1</td>\n",
       "      <td>1</td>\n",
       "      <td>2</td>\n",
       "      <td>1</td>\n",
       "      <td>0003-MKNFE</td>\n",
       "      <td>Male</td>\n",
       "      <td>0</td>\n",
       "      <td>No</td>\n",
       "      <td>No</td>\n",
       "      <td>9</td>\n",
       "      <td>...</td>\n",
       "      <td>No</td>\n",
       "      <td>No</td>\n",
       "      <td>Yes</td>\n",
       "      <td>No</td>\n",
       "      <td>59.9</td>\n",
       "      <td>542.4</td>\n",
       "      <td>No</td>\n",
       "      <td>DSL</td>\n",
       "      <td>Mailed check</td>\n",
       "      <td>Month-to-month</td>\n",
       "    </tr>\n",
       "    <tr>\n",
       "      <th>2</th>\n",
       "      <td>2</td>\n",
       "      <td>1</td>\n",
       "      <td>1</td>\n",
       "      <td>2</td>\n",
       "      <td>0004-TLHLJ</td>\n",
       "      <td>Male</td>\n",
       "      <td>0</td>\n",
       "      <td>No</td>\n",
       "      <td>No</td>\n",
       "      <td>4</td>\n",
       "      <td>...</td>\n",
       "      <td>No</td>\n",
       "      <td>No</td>\n",
       "      <td>No</td>\n",
       "      <td>Yes</td>\n",
       "      <td>73.9</td>\n",
       "      <td>280.85</td>\n",
       "      <td>Yes</td>\n",
       "      <td>Fiber optic</td>\n",
       "      <td>Electronic check</td>\n",
       "      <td>Month-to-month</td>\n",
       "    </tr>\n",
       "    <tr>\n",
       "      <th>3</th>\n",
       "      <td>3</td>\n",
       "      <td>1</td>\n",
       "      <td>1</td>\n",
       "      <td>2</td>\n",
       "      <td>0011-IGKFF</td>\n",
       "      <td>Male</td>\n",
       "      <td>1</td>\n",
       "      <td>Yes</td>\n",
       "      <td>No</td>\n",
       "      <td>13</td>\n",
       "      <td>...</td>\n",
       "      <td>No</td>\n",
       "      <td>Yes</td>\n",
       "      <td>Yes</td>\n",
       "      <td>Yes</td>\n",
       "      <td>98.0</td>\n",
       "      <td>1237.85</td>\n",
       "      <td>Yes</td>\n",
       "      <td>Fiber optic</td>\n",
       "      <td>Electronic check</td>\n",
       "      <td>Month-to-month</td>\n",
       "    </tr>\n",
       "    <tr>\n",
       "      <th>4</th>\n",
       "      <td>4</td>\n",
       "      <td>1</td>\n",
       "      <td>2</td>\n",
       "      <td>2</td>\n",
       "      <td>0013-EXCHZ</td>\n",
       "      <td>Female</td>\n",
       "      <td>1</td>\n",
       "      <td>Yes</td>\n",
       "      <td>No</td>\n",
       "      <td>3</td>\n",
       "      <td>...</td>\n",
       "      <td>Yes</td>\n",
       "      <td>Yes</td>\n",
       "      <td>No</td>\n",
       "      <td>Yes</td>\n",
       "      <td>83.9</td>\n",
       "      <td>267.4</td>\n",
       "      <td>Yes</td>\n",
       "      <td>Fiber optic</td>\n",
       "      <td>Mailed check</td>\n",
       "      <td>Month-to-month</td>\n",
       "    </tr>\n",
       "  </tbody>\n",
       "</table>\n",
       "<p>5 rows × 25 columns</p>\n",
       "</div>"
      ],
      "text/plain": [
       "   Unnamed: 0  contract_type_id  payment_type_id  internet_service_type_id  \\\n",
       "0           0                 2                2                         1   \n",
       "1           1                 1                2                         1   \n",
       "2           2                 1                1                         2   \n",
       "3           3                 1                1                         2   \n",
       "4           4                 1                2                         2   \n",
       "\n",
       "  customer_id  gender  senior_citizen partner dependents  tenure  ...  \\\n",
       "0  0002-ORFBO  Female               0     Yes        Yes       9  ...   \n",
       "1  0003-MKNFE    Male               0      No         No       9  ...   \n",
       "2  0004-TLHLJ    Male               0      No         No       4  ...   \n",
       "3  0011-IGKFF    Male               1     Yes         No      13  ...   \n",
       "4  0013-EXCHZ  Female               1     Yes         No       3  ...   \n",
       "\n",
       "  tech_support streaming_tv streaming_movies paperless_billing  \\\n",
       "0          Yes          Yes               No               Yes   \n",
       "1           No           No              Yes                No   \n",
       "2           No           No               No               Yes   \n",
       "3           No          Yes              Yes               Yes   \n",
       "4          Yes          Yes               No               Yes   \n",
       "\n",
       "  monthly_charges total_charges churn internet_service_type      payment_type  \\\n",
       "0            65.6         593.3    No                   DSL      Mailed check   \n",
       "1            59.9         542.4    No                   DSL      Mailed check   \n",
       "2            73.9        280.85   Yes           Fiber optic  Electronic check   \n",
       "3            98.0       1237.85   Yes           Fiber optic  Electronic check   \n",
       "4            83.9         267.4   Yes           Fiber optic      Mailed check   \n",
       "\n",
       "    contract_type  \n",
       "0        One year  \n",
       "1  Month-to-month  \n",
       "2  Month-to-month  \n",
       "3  Month-to-month  \n",
       "4  Month-to-month  \n",
       "\n",
       "[5 rows x 25 columns]"
      ]
     },
     "execution_count": 184,
     "metadata": {},
     "output_type": "execute_result"
    }
   ],
   "source": [
    "df.head()"
   ]
  },
  {
   "cell_type": "code",
   "execution_count": 185,
   "id": "192b73ea",
   "metadata": {},
   "outputs": [],
   "source": [
    "df = df.drop(['Unnamed: 0', 'customer_id'], axis=1)\n",
    "dummy = pd.get_dummies(df[['gender', 'partner', 'dependents', 'phone_service', 'multiple_lines',\n",
    "                  'tech_support', 'streaming_tv', 'streaming_movies', 'paperless_billing',\n",
    "                  'churn', 'internet_service_type', 'payment_type', 'contract_type']], #prefix= (['encoded', 'encoded', 'encoded', 'encoded', 'encoded', 'encoded', 'encoded', 'encoded', 'encoded', 'encoded', 'encoded', 'encoded', 'encoded']),\n",
    "              dummy_na=False, drop_first=[True, True, True, True, True, True, True, True, True, True, True, True, True])\n",
    "   "
   ]
  },
  {
   "cell_type": "code",
   "execution_count": null,
   "id": "76543331",
   "metadata": {},
   "outputs": [],
   "source": []
  },
  {
   "cell_type": "code",
   "execution_count": 186,
   "id": "00d582a7",
   "metadata": {},
   "outputs": [
    {
     "data": {
      "text/plain": [
       "Index(['gender_Male', 'partner_Yes', 'dependents_Yes', 'phone_service_Yes',\n",
       "       'multiple_lines_Yes', 'tech_support_Yes', 'streaming_tv_Yes',\n",
       "       'streaming_movies_Yes', 'paperless_billing_Yes', 'churn_Yes',\n",
       "       'internet_service_type_Fiber optic', 'internet_service_type_None',\n",
       "       'payment_type_Credit card (automatic)', 'payment_type_Electronic check',\n",
       "       'payment_type_Mailed check', 'contract_type_One year',\n",
       "       'contract_type_Two year'],\n",
       "      dtype='object')"
      ]
     },
     "execution_count": 186,
     "metadata": {},
     "output_type": "execute_result"
    }
   ],
   "source": [
    "dummy.columns"
   ]
  },
  {
   "cell_type": "markdown",
   "id": "6825f223",
   "metadata": {},
   "source": [
    "rename all of the dummy variable columns to start with e_ for \"encoded_\" which will make it easier to differentiate features that are represented as both discrete (objects, original data) and numeric (dummy, 1 = true)"
   ]
  },
  {
   "cell_type": "code",
   "execution_count": 187,
   "id": "65a517d9",
   "metadata": {},
   "outputs": [],
   "source": [
    "dummy.rename(columns = {'gender_Male': 'e_gender_male', 'partner_Yes':'e_partner', 'dependents_Yes':'e_dependents',\n",
    "       'phone_service_Yes': 'e_phone_service', 'multiple_lines_Yes': 'e_multiple_lines',\n",
    "       'tech_support_Yes': 'e_tech_support', 'streaming_tv_Yes': 'e_tv_stream',\n",
    "       'streaming_movies_Yes': 'e_movies_stream',\n",
    "       'paperless_billing_Yes': 'e_paperless_bill', 'churn_Yes': 'e_churn',\n",
    "       'internet_service_type_Fiber optic' : 'e_fiber_optic', 'internet_service_type_None': 'e_no_internet',\n",
    "       'payment_type_Credit card (automatic)': 'e_cc_auto', 'payment_type_Electronic check': 'e_check_electric',\n",
    "       'payment_type_Mailed check': 'e_check_mail', 'contract_type_One year': 'e_oneyr',\n",
    "       'contract_type_Two year': 'e_twoyr'}, inplace = True)"
   ]
  },
  {
   "cell_type": "code",
   "execution_count": 188,
   "id": "0e8363c3",
   "metadata": {},
   "outputs": [
    {
     "data": {
      "text/plain": [
       "Index(['e_gender_male', 'e_partner', 'e_dependents', 'e_phone_service',\n",
       "       'e_multiple_lines', 'e_tech_support', 'e_tv_stream', 'e_movies_stream',\n",
       "       'e_paperless_bill', 'e_churn', 'e_fiber_optic', 'e_no_internet',\n",
       "       'e_cc_auto', 'e_check_electric', 'e_check_mail', 'e_oneyr', 'e_twoyr'],\n",
       "      dtype='object')"
      ]
     },
     "execution_count": 188,
     "metadata": {},
     "output_type": "execute_result"
    }
   ],
   "source": [
    "dummy.columns"
   ]
  },
  {
   "cell_type": "markdown",
   "id": "84c2f78b",
   "metadata": {},
   "source": [
    "concatenate new dummy dataframe and original dataframe to work with one large dataframe "
   ]
  },
  {
   "cell_type": "code",
   "execution_count": 22,
   "id": "a18c7939",
   "metadata": {},
   "outputs": [],
   "source": [
    "df = pd.concat([dummy, df], axis=1)"
   ]
  },
  {
   "cell_type": "code",
   "execution_count": 23,
   "id": "b3327201",
   "metadata": {},
   "outputs": [
    {
     "data": {
      "text/html": [
       "<div>\n",
       "<style scoped>\n",
       "    .dataframe tbody tr th:only-of-type {\n",
       "        vertical-align: middle;\n",
       "    }\n",
       "\n",
       "    .dataframe tbody tr th {\n",
       "        vertical-align: top;\n",
       "    }\n",
       "\n",
       "    .dataframe thead th {\n",
       "        text-align: right;\n",
       "    }\n",
       "</style>\n",
       "<table border=\"1\" class=\"dataframe\">\n",
       "  <thead>\n",
       "    <tr style=\"text-align: right;\">\n",
       "      <th></th>\n",
       "      <th>e_gender_male</th>\n",
       "      <th>e_partner</th>\n",
       "      <th>e_dependents</th>\n",
       "      <th>e_phoneserv</th>\n",
       "      <th>e_multi_no_phone</th>\n",
       "      <th>e_multi</th>\n",
       "      <th>e_tech_no_int</th>\n",
       "      <th>e_tech</th>\n",
       "      <th>e_tv_no_int</th>\n",
       "      <th>e_tv</th>\n",
       "      <th>...</th>\n",
       "      <th>tech_support</th>\n",
       "      <th>streaming_tv</th>\n",
       "      <th>streaming_movies</th>\n",
       "      <th>paperless_billing</th>\n",
       "      <th>monthly_charges</th>\n",
       "      <th>total_charges</th>\n",
       "      <th>churn</th>\n",
       "      <th>internet_service_type</th>\n",
       "      <th>payment_type</th>\n",
       "      <th>contract_type</th>\n",
       "    </tr>\n",
       "  </thead>\n",
       "  <tbody>\n",
       "    <tr>\n",
       "      <th>0</th>\n",
       "      <td>0</td>\n",
       "      <td>1</td>\n",
       "      <td>1</td>\n",
       "      <td>1</td>\n",
       "      <td>0</td>\n",
       "      <td>0</td>\n",
       "      <td>0</td>\n",
       "      <td>1</td>\n",
       "      <td>0</td>\n",
       "      <td>1</td>\n",
       "      <td>...</td>\n",
       "      <td>Yes</td>\n",
       "      <td>Yes</td>\n",
       "      <td>No</td>\n",
       "      <td>Yes</td>\n",
       "      <td>65.6</td>\n",
       "      <td>593.3</td>\n",
       "      <td>No</td>\n",
       "      <td>DSL</td>\n",
       "      <td>Mailed check</td>\n",
       "      <td>One year</td>\n",
       "    </tr>\n",
       "    <tr>\n",
       "      <th>1</th>\n",
       "      <td>1</td>\n",
       "      <td>0</td>\n",
       "      <td>0</td>\n",
       "      <td>1</td>\n",
       "      <td>0</td>\n",
       "      <td>1</td>\n",
       "      <td>0</td>\n",
       "      <td>0</td>\n",
       "      <td>0</td>\n",
       "      <td>0</td>\n",
       "      <td>...</td>\n",
       "      <td>No</td>\n",
       "      <td>No</td>\n",
       "      <td>Yes</td>\n",
       "      <td>No</td>\n",
       "      <td>59.9</td>\n",
       "      <td>542.4</td>\n",
       "      <td>No</td>\n",
       "      <td>DSL</td>\n",
       "      <td>Mailed check</td>\n",
       "      <td>Month-to-month</td>\n",
       "    </tr>\n",
       "    <tr>\n",
       "      <th>2</th>\n",
       "      <td>1</td>\n",
       "      <td>0</td>\n",
       "      <td>0</td>\n",
       "      <td>1</td>\n",
       "      <td>0</td>\n",
       "      <td>0</td>\n",
       "      <td>0</td>\n",
       "      <td>0</td>\n",
       "      <td>0</td>\n",
       "      <td>0</td>\n",
       "      <td>...</td>\n",
       "      <td>No</td>\n",
       "      <td>No</td>\n",
       "      <td>No</td>\n",
       "      <td>Yes</td>\n",
       "      <td>73.9</td>\n",
       "      <td>280.85</td>\n",
       "      <td>Yes</td>\n",
       "      <td>Fiber optic</td>\n",
       "      <td>Electronic check</td>\n",
       "      <td>Month-to-month</td>\n",
       "    </tr>\n",
       "    <tr>\n",
       "      <th>3</th>\n",
       "      <td>1</td>\n",
       "      <td>1</td>\n",
       "      <td>0</td>\n",
       "      <td>1</td>\n",
       "      <td>0</td>\n",
       "      <td>0</td>\n",
       "      <td>0</td>\n",
       "      <td>0</td>\n",
       "      <td>0</td>\n",
       "      <td>1</td>\n",
       "      <td>...</td>\n",
       "      <td>No</td>\n",
       "      <td>Yes</td>\n",
       "      <td>Yes</td>\n",
       "      <td>Yes</td>\n",
       "      <td>98.0</td>\n",
       "      <td>1237.85</td>\n",
       "      <td>Yes</td>\n",
       "      <td>Fiber optic</td>\n",
       "      <td>Electronic check</td>\n",
       "      <td>Month-to-month</td>\n",
       "    </tr>\n",
       "    <tr>\n",
       "      <th>4</th>\n",
       "      <td>0</td>\n",
       "      <td>1</td>\n",
       "      <td>0</td>\n",
       "      <td>1</td>\n",
       "      <td>0</td>\n",
       "      <td>0</td>\n",
       "      <td>0</td>\n",
       "      <td>1</td>\n",
       "      <td>0</td>\n",
       "      <td>1</td>\n",
       "      <td>...</td>\n",
       "      <td>Yes</td>\n",
       "      <td>Yes</td>\n",
       "      <td>No</td>\n",
       "      <td>Yes</td>\n",
       "      <td>83.9</td>\n",
       "      <td>267.4</td>\n",
       "      <td>Yes</td>\n",
       "      <td>Fiber optic</td>\n",
       "      <td>Mailed check</td>\n",
       "      <td>Month-to-month</td>\n",
       "    </tr>\n",
       "  </tbody>\n",
       "</table>\n",
       "<p>5 rows × 44 columns</p>\n",
       "</div>"
      ],
      "text/plain": [
       "   e_gender_male  e_partner  e_dependents  e_phoneserv  e_multi_no_phone  \\\n",
       "0              0          1             1            1                 0   \n",
       "1              1          0             0            1                 0   \n",
       "2              1          0             0            1                 0   \n",
       "3              1          1             0            1                 0   \n",
       "4              0          1             0            1                 0   \n",
       "\n",
       "   e_multi  e_tech_no_int  e_tech  e_tv_no_int  e_tv  ...  tech_support  \\\n",
       "0        0              0       1            0     1  ...           Yes   \n",
       "1        1              0       0            0     0  ...            No   \n",
       "2        0              0       0            0     0  ...            No   \n",
       "3        0              0       0            0     1  ...            No   \n",
       "4        0              0       1            0     1  ...           Yes   \n",
       "\n",
       "   streaming_tv  streaming_movies  paperless_billing  monthly_charges  \\\n",
       "0           Yes                No                Yes             65.6   \n",
       "1            No               Yes                 No             59.9   \n",
       "2            No                No                Yes             73.9   \n",
       "3           Yes               Yes                Yes             98.0   \n",
       "4           Yes                No                Yes             83.9   \n",
       "\n",
       "   total_charges  churn  internet_service_type      payment_type  \\\n",
       "0          593.3     No                    DSL      Mailed check   \n",
       "1          542.4     No                    DSL      Mailed check   \n",
       "2         280.85    Yes            Fiber optic  Electronic check   \n",
       "3        1237.85    Yes            Fiber optic  Electronic check   \n",
       "4          267.4    Yes            Fiber optic      Mailed check   \n",
       "\n",
       "    contract_type  \n",
       "0        One year  \n",
       "1  Month-to-month  \n",
       "2  Month-to-month  \n",
       "3  Month-to-month  \n",
       "4  Month-to-month  \n",
       "\n",
       "[5 rows x 44 columns]"
      ]
     },
     "execution_count": 23,
     "metadata": {},
     "output_type": "execute_result"
    }
   ],
   "source": [
    "df.head()"
   ]
  },
  {
   "cell_type": "code",
   "execution_count": 25,
   "id": "c03a24fd",
   "metadata": {},
   "outputs": [
    {
     "data": {
      "text/plain": [
       "e_gender_male               0\n",
       "e_partner                   0\n",
       "e_dependents                0\n",
       "e_phoneserv                 0\n",
       "e_multi_no_phone            0\n",
       "e_multi                     0\n",
       "e_tech_no_int               0\n",
       "e_tech                      0\n",
       "e_tv_no_int                 0\n",
       "e_tv                        0\n",
       "e_movies_no_int             0\n",
       "e_movies                    0\n",
       "e_paperless_bill            0\n",
       "e_churn                     0\n",
       "e_fiber_optic               0\n",
       "e_no_int                    0\n",
       "e_payment_cc                0\n",
       "e_payment_check_el          0\n",
       "e_check_mail                0\n",
       "e_contract_oneyr            0\n",
       "e_contract_twoyr            0\n",
       "contract_type_id            0\n",
       "payment_type_id             0\n",
       "internet_service_type_id    0\n",
       "gender                      0\n",
       "senior_citizen              0\n",
       "partner                     0\n",
       "dependents                  0\n",
       "tenure                      0\n",
       "phone_service               0\n",
       "multiple_lines              0\n",
       "online_security             0\n",
       "online_backup               0\n",
       "device_protection           0\n",
       "tech_support                0\n",
       "streaming_tv                0\n",
       "streaming_movies            0\n",
       "paperless_billing           0\n",
       "monthly_charges             0\n",
       "total_charges               0\n",
       "churn                       0\n",
       "internet_service_type       0\n",
       "payment_type                0\n",
       "contract_type               0\n",
       "dtype: int64"
      ]
     },
     "execution_count": 25,
     "metadata": {},
     "output_type": "execute_result"
    }
   ],
   "source": [
    "df.isna().sum()"
   ]
  },
  {
   "cell_type": "code",
   "execution_count": 30,
   "id": "25d7bd30",
   "metadata": {},
   "outputs": [
    {
     "data": {
      "text/plain": [
       "e_gender_male                 uint8\n",
       "e_partner                     uint8\n",
       "e_dependents                  uint8\n",
       "e_phoneserv                   uint8\n",
       "e_multi_no_phone              uint8\n",
       "e_multi                       uint8\n",
       "e_tech_no_int                 uint8\n",
       "e_tech                        uint8\n",
       "e_tv_no_int                   uint8\n",
       "e_tv                          uint8\n",
       "e_movies_no_int               uint8\n",
       "e_movies                      uint8\n",
       "e_paperless_bill              uint8\n",
       "e_churn                       uint8\n",
       "e_fiber_optic                 uint8\n",
       "e_no_int                      uint8\n",
       "e_payment_cc                  uint8\n",
       "e_payment_check_el            uint8\n",
       "e_check_mail                  uint8\n",
       "e_contract_oneyr              uint8\n",
       "e_contract_twoyr              uint8\n",
       "contract_type_id              int64\n",
       "payment_type_id               int64\n",
       "internet_service_type_id      int64\n",
       "gender                       object\n",
       "senior_citizen                int64\n",
       "partner                      object\n",
       "dependents                   object\n",
       "tenure                        int64\n",
       "phone_service                object\n",
       "multiple_lines               object\n",
       "online_security              object\n",
       "online_backup                object\n",
       "device_protection            object\n",
       "tech_support                 object\n",
       "streaming_tv                 object\n",
       "streaming_movies             object\n",
       "paperless_billing            object\n",
       "monthly_charges             float64\n",
       "total_charges                object\n",
       "churn                        object\n",
       "internet_service_type        object\n",
       "payment_type                 object\n",
       "contract_type                object\n",
       "dtype: object"
      ]
     },
     "execution_count": 30,
     "metadata": {},
     "output_type": "execute_result"
    }
   ],
   "source": [
    "df.dtypes"
   ]
  },
  {
   "cell_type": "markdown",
   "id": "2cc17ee5",
   "metadata": {},
   "source": [
    "total_charges column to be converted to numeric"
   ]
  },
  {
   "cell_type": "code",
   "execution_count": 31,
   "id": "9e0ee51f",
   "metadata": {},
   "outputs": [
    {
     "data": {
      "text/plain": [
       "0        593.30\n",
       "1        542.40\n",
       "2        280.85\n",
       "3       1237.85\n",
       "4        267.40\n",
       "         ...   \n",
       "7038     742.90\n",
       "7039    1873.70\n",
       "7040      92.75\n",
       "7041    4627.65\n",
       "7042    3707.60\n",
       "Name: total_charges, Length: 7043, dtype: float64"
      ]
     },
     "execution_count": 31,
     "metadata": {},
     "output_type": "execute_result"
    }
   ],
   "source": [
    "df['total_charges'] = pd.to_numeric(df['total_charges'], errors='coerce')\n",
    "df.total_charges"
   ]
  },
  {
   "cell_type": "code",
   "execution_count": 32,
   "id": "e0b855f0",
   "metadata": {},
   "outputs": [
    {
     "data": {
      "text/plain": [
       "e_gender_male                0\n",
       "e_partner                    0\n",
       "e_dependents                 0\n",
       "e_phoneserv                  0\n",
       "e_multi_no_phone             0\n",
       "e_multi                      0\n",
       "e_tech_no_int                0\n",
       "e_tech                       0\n",
       "e_tv_no_int                  0\n",
       "e_tv                         0\n",
       "e_movies_no_int              0\n",
       "e_movies                     0\n",
       "e_paperless_bill             0\n",
       "e_churn                      0\n",
       "e_fiber_optic                0\n",
       "e_no_int                     0\n",
       "e_payment_cc                 0\n",
       "e_payment_check_el           0\n",
       "e_check_mail                 0\n",
       "e_contract_oneyr             0\n",
       "e_contract_twoyr             0\n",
       "contract_type_id             0\n",
       "payment_type_id              0\n",
       "internet_service_type_id     0\n",
       "gender                       0\n",
       "senior_citizen               0\n",
       "partner                      0\n",
       "dependents                   0\n",
       "tenure                       0\n",
       "phone_service                0\n",
       "multiple_lines               0\n",
       "online_security              0\n",
       "online_backup                0\n",
       "device_protection            0\n",
       "tech_support                 0\n",
       "streaming_tv                 0\n",
       "streaming_movies             0\n",
       "paperless_billing            0\n",
       "monthly_charges              0\n",
       "total_charges               11\n",
       "churn                        0\n",
       "internet_service_type        0\n",
       "payment_type                 0\n",
       "contract_type                0\n",
       "dtype: int64"
      ]
     },
     "execution_count": 32,
     "metadata": {},
     "output_type": "execute_result"
    }
   ],
   "source": [
    "df.isna().sum()"
   ]
  },
  {
   "cell_type": "code",
   "execution_count": 157,
   "id": "85bec1cd",
   "metadata": {},
   "outputs": [
    {
     "data": {
      "text/plain": [
       "No                     3497\n",
       "Yes                    2015\n",
       "No internet service    1520\n",
       "Name: online_security, dtype: int64"
      ]
     },
     "execution_count": 157,
     "metadata": {},
     "output_type": "execute_result"
    }
   ],
   "source": [
    "df.online_security.value_counts()"
   ]
  },
  {
   "cell_type": "code",
   "execution_count": 49,
   "id": "358a5193",
   "metadata": {},
   "outputs": [
    {
     "data": {
      "text/plain": [
       "945     0\n",
       "1731    0\n",
       "1906    0\n",
       "2025    0\n",
       "2176    0\n",
       "2250    0\n",
       "2855    0\n",
       "3052    0\n",
       "3118    0\n",
       "4054    0\n",
       "5433    0\n",
       "Name: tenure, dtype: int64"
      ]
     },
     "execution_count": 49,
     "metadata": {},
     "output_type": "execute_result"
    }
   ],
   "source": [
    "df[df.total_charges.isna()].tenure"
   ]
  },
  {
   "cell_type": "markdown",
   "id": "41e5ad4d",
   "metadata": {},
   "source": [
    "After changing data type of total_charges to float, there are 11 null values. All of these null values are in rows with new customers (represented by 0 tenure). Brand new customers would not hold any significance to determine churn so dropping these rows."
   ]
  },
  {
   "cell_type": "code",
   "execution_count": 50,
   "id": "0b78b25a",
   "metadata": {},
   "outputs": [],
   "source": [
    "df.dropna(subset=['total_charges'], inplace=True)"
   ]
  },
  {
   "cell_type": "code",
   "execution_count": 163,
   "id": "4fdddd27",
   "metadata": {},
   "outputs": [
    {
     "ename": "TypeError",
     "evalue": "'DataFrame' object is not callable",
     "output_type": "error",
     "traceback": [
      "\u001b[0;31m---------------------------------------------------------------------------\u001b[0m",
      "\u001b[0;31mTypeError\u001b[0m                                 Traceback (most recent call last)",
      "\u001b[0;32m/var/folders/s4/hmz6ljm533vgpm_bhv59yw0m0000gn/T/ipykernel_47476/1239775188.py\u001b[0m in \u001b[0;36m<module>\u001b[0;34m\u001b[0m\n\u001b[0;32m----> 1\u001b[0;31m \u001b[0mdf\u001b[0m\u001b[0;34m(\u001b[0m\u001b[0;34m'tenure'\u001b[0m \u001b[0;34m==\u001b[0m \u001b[0;36m0\u001b[0m\u001b[0;34m)\u001b[0m\u001b[0;34m\u001b[0m\u001b[0;34m\u001b[0m\u001b[0m\n\u001b[0m",
      "\u001b[0;31mTypeError\u001b[0m: 'DataFrame' object is not callable"
     ]
    }
   ],
   "source": []
  },
  {
   "cell_type": "markdown",
   "id": "955d943b",
   "metadata": {},
   "source": [
    "use train_validate_test_split function to split the data into three dataframes:\n",
    "\n",
    "train- .70 * .80= 56% of the original dataset\n",
    "validate- .30 * .80= 24% of the original dataset\n",
    "test- 20% of the original dataset\n",
    "\n",
    "Stratify the target variable ('e_churn') to ensure subsets proportionally represent the original dataframe\n",
    "\n",
    "Note: 'e_churn' -\n",
    "1 = has churned\n",
    "0 = has no churned"
   ]
  },
  {
   "cell_type": "code",
   "execution_count": 52,
   "id": "f98a634e",
   "metadata": {},
   "outputs": [],
   "source": [
    "from sklearn.linear_model import LogisticRegression"
   ]
  },
  {
   "cell_type": "code",
   "execution_count": 53,
   "id": "db5ebfd3",
   "metadata": {},
   "outputs": [],
   "source": [
    "def train_validate_test_split(df, target, seed=123):\n",
    "    train_validate, test = train_test_split(df, test_size=0.2, \n",
    "                                            random_state=seed,\n",
    "                                            stratify=df[target])\n",
    "    train, validate = train_test_split(train_validate, test_size=0.3,\n",
    "                                       random_state=seed,\n",
    "                                       stratify=train_validate[target])\n",
    "        \n",
    "    return train, validate, test"
   ]
  },
  {
   "cell_type": "code",
   "execution_count": 54,
   "id": "c644bd62",
   "metadata": {},
   "outputs": [
    {
     "data": {
      "text/plain": [
       "((3937, 44), (1688, 44), (1407, 44))"
      ]
     },
     "execution_count": 54,
     "metadata": {},
     "output_type": "execute_result"
    }
   ],
   "source": [
    "train, validate, test = train_validate_test_split(df, target='e_churn', seed=123)\n",
    "train.shape, validate.shape, test.shape"
   ]
  },
  {
   "cell_type": "code",
   "execution_count": 55,
   "id": "d1c54172",
   "metadata": {},
   "outputs": [
    {
     "data": {
      "text/plain": [
       "0    2891\n",
       "1    1046\n",
       "Name: e_churn, dtype: int64"
      ]
     },
     "execution_count": 55,
     "metadata": {},
     "output_type": "execute_result"
    }
   ],
   "source": [
    "train.e_churn.value_counts()"
   ]
  },
  {
   "cell_type": "markdown",
   "id": "eb7d4be2",
   "metadata": {},
   "source": [
    "determine baseline accuracy"
   ]
  },
  {
   "cell_type": "code",
   "execution_count": 77,
   "id": "212176a6",
   "metadata": {},
   "outputs": [
    {
     "data": {
      "text/plain": [
       "0.7343154686309372"
      ]
     },
     "execution_count": 77,
     "metadata": {},
     "output_type": "execute_result"
    }
   ],
   "source": [
    "baseline_accuracy = ((train.e_churn == 0).sum() / len(train.e_churn))\n",
    "baseline_accuracy\n",
    "# 73.4% of customers do not churn on baseline accuracy"
   ]
  },
  {
   "cell_type": "markdown",
   "id": "dee0eabd",
   "metadata": {},
   "source": [
    "split train, validate, and test data into X and y subsets to prep for modeling. <br> \n",
    "note - discrete columns and columns with duplicate data are dropped"
   ]
  },
  {
   "cell_type": "markdown",
   "id": "6986cba1",
   "metadata": {},
   "source": [
    "### Logistic Regression Model"
   ]
  },
  {
   "cell_type": "code",
   "execution_count": 79,
   "id": "55183913",
   "metadata": {},
   "outputs": [
    {
     "name": "stdout",
     "output_type": "stream",
     "text": [
      "<class 'pandas.core.frame.DataFrame'>\n",
      "Int64Index: 3937 entries, 5919 to 4192\n",
      "Data columns (total 44 columns):\n",
      " #   Column                    Non-Null Count  Dtype  \n",
      "---  ------                    --------------  -----  \n",
      " 0   e_gender_male             3937 non-null   uint8  \n",
      " 1   e_partner                 3937 non-null   uint8  \n",
      " 2   e_dependents              3937 non-null   uint8  \n",
      " 3   e_phoneserv               3937 non-null   uint8  \n",
      " 4   e_multi_no_phone          3937 non-null   uint8  \n",
      " 5   e_multi                   3937 non-null   uint8  \n",
      " 6   e_tech_no_int             3937 non-null   uint8  \n",
      " 7   e_tech                    3937 non-null   uint8  \n",
      " 8   e_tv_no_int               3937 non-null   uint8  \n",
      " 9   e_tv                      3937 non-null   uint8  \n",
      " 10  e_movies_no_int           3937 non-null   uint8  \n",
      " 11  e_movies                  3937 non-null   uint8  \n",
      " 12  e_paperless_bill          3937 non-null   uint8  \n",
      " 13  e_churn                   3937 non-null   uint8  \n",
      " 14  e_fiber_optic             3937 non-null   uint8  \n",
      " 15  e_no_int                  3937 non-null   uint8  \n",
      " 16  e_payment_cc              3937 non-null   uint8  \n",
      " 17  e_payment_check_el        3937 non-null   uint8  \n",
      " 18  e_check_mail              3937 non-null   uint8  \n",
      " 19  e_contract_oneyr          3937 non-null   uint8  \n",
      " 20  e_contract_twoyr          3937 non-null   uint8  \n",
      " 21  contract_type_id          3937 non-null   int64  \n",
      " 22  payment_type_id           3937 non-null   int64  \n",
      " 23  internet_service_type_id  3937 non-null   int64  \n",
      " 24  gender                    3937 non-null   object \n",
      " 25  senior_citizen            3937 non-null   int64  \n",
      " 26  partner                   3937 non-null   object \n",
      " 27  dependents                3937 non-null   object \n",
      " 28  tenure                    3937 non-null   int64  \n",
      " 29  phone_service             3937 non-null   object \n",
      " 30  multiple_lines            3937 non-null   object \n",
      " 31  online_security           3937 non-null   object \n",
      " 32  online_backup             3937 non-null   object \n",
      " 33  device_protection         3937 non-null   object \n",
      " 34  tech_support              3937 non-null   object \n",
      " 35  streaming_tv              3937 non-null   object \n",
      " 36  streaming_movies          3937 non-null   object \n",
      " 37  paperless_billing         3937 non-null   object \n",
      " 38  monthly_charges           3937 non-null   float64\n",
      " 39  total_charges             3937 non-null   float64\n",
      " 40  churn                     3937 non-null   object \n",
      " 41  internet_service_type     3937 non-null   object \n",
      " 42  payment_type              3937 non-null   object \n",
      " 43  contract_type             3937 non-null   object \n",
      "dtypes: float64(2), int64(5), object(16), uint8(21)\n",
      "memory usage: 818.9+ KB\n"
     ]
    }
   ],
   "source": [
    "train.info()"
   ]
  },
  {
   "cell_type": "code",
   "execution_count": 136,
   "id": "8ebf7834",
   "metadata": {},
   "outputs": [],
   "source": [
    "X_train = train.drop(columns=['contract_type_id', 'payment_type_id', 'internet_service_type_id', 'gender',\n",
    "                             'partner', 'dependents', 'phone_service', 'multiple_lines', 'online_security',\n",
    "                             'online_backup', 'device_protection', 'tech_support', 'streaming_tv', 'streaming_movies',\n",
    "                             'paperless_billing', 'churn', 'internet_service_type', 'payment_type', 'contract_type', 'e_churn'])\n",
    "y_train = train.e_churn\n",
    "\n",
    "X_validate = validate.drop(columns=['contract_type_id', 'payment_type_id', 'internet_service_type_id', 'gender',\n",
    "                             'partner', 'dependents', 'phone_service', 'multiple_lines', 'online_security',\n",
    "                             'online_backup', 'device_protection', 'tech_support', 'streaming_tv', 'streaming_movies',\n",
    "                             'paperless_billing', 'churn', 'internet_service_type', 'payment_type', 'contract_type', 'e_churn'])\n",
    "y_validate = validate.e_churn\n",
    "\n",
    "X_test = test.drop(columns=['contract_type_id', 'payment_type_id', 'internet_service_type_id', 'gender',\n",
    "                             'partner', 'dependents', 'phone_service', 'multiple_lines', 'online_security',\n",
    "                             'online_backup', 'device_protection', 'tech_support', 'streaming_tv', 'streaming_movies',\n",
    "                             'paperless_billing', 'churn', 'internet_service_type', 'payment_type', 'contract_type', 'e_churn'])\n",
    "y_test = test.e_churn"
   ]
  },
  {
   "cell_type": "code",
   "execution_count": 147,
   "id": "a8212268",
   "metadata": {},
   "outputs": [],
   "source": [
    "logit = LogisticRegression(C=.1, class_weight={0: 1, 1: 99}, random_state=123, intercept_scaling=1, solver='lbfgs')"
   ]
  },
  {
   "cell_type": "code",
   "execution_count": 148,
   "id": "74e3ff56",
   "metadata": {},
   "outputs": [
    {
     "data": {
      "text/plain": [
       "LogisticRegression(C=0.1, class_weight={0: 1, 1: 99}, random_state=123)"
      ]
     },
     "execution_count": 148,
     "metadata": {},
     "output_type": "execute_result"
    }
   ],
   "source": [
    "logit.fit(X_train, y_train)\n",
    "LogisticRegression(C=.1, class_weight={0: 1, 1: 99}, random_state=123)"
   ]
  },
  {
   "cell_type": "code",
   "execution_count": 149,
   "id": "0929fccf",
   "metadata": {},
   "outputs": [
    {
     "name": "stdout",
     "output_type": "stream",
     "text": [
      "Coefficient: \n",
      " [[ 1.26675252e-01 -1.15287272e-01  4.88697046e-03 -8.80679838e-02\n",
      "   1.22968128e+00  2.67392751e-02  1.78672429e-01 -5.99957300e-01\n",
      "   1.78672429e-01 -3.89310827e-01  1.78672429e-01 -3.13621389e-01\n",
      "   4.27392396e-01 -1.72822767e-01  1.78672429e-01  3.08780071e-01\n",
      "   6.41983174e-01 -1.53508050e-01 -4.18756460e-01 -1.06788118e+00\n",
      "   6.52532003e-01 -5.11122191e-02  5.21014282e-02  7.66615824e-05]]\n",
      "Intercept: \n",
      " [1.16406384]\n"
     ]
    }
   ],
   "source": [
    "print('Coefficient: \\n', logit.coef_)\n",
    "print('Intercept: \\n', logit.intercept_)"
   ]
  },
  {
   "cell_type": "code",
   "execution_count": 150,
   "id": "0749afe4",
   "metadata": {},
   "outputs": [
    {
     "data": {
      "text/plain": [
       "(array([1, 1, 1, ..., 1, 1, 1], dtype=uint8),\n",
       " array([[0.13128094, 0.86871906],\n",
       "        [0.06512046, 0.93487954],\n",
       "        [0.08342148, 0.91657852],\n",
       "        ...,\n",
       "        [0.2347658 , 0.7652342 ],\n",
       "        [0.00620887, 0.99379113],\n",
       "        [0.06241303, 0.93758697]]))"
      ]
     },
     "execution_count": 150,
     "metadata": {},
     "output_type": "execute_result"
    }
   ],
   "source": [
    "y_pred = logit.predict(X_train)\n",
    "y_pred_proba = logit.predict_proba(X_train)\n",
    "\n",
    "y_pred, y_pred_proba"
   ]
  },
  {
   "cell_type": "code",
   "execution_count": 151,
   "id": "55735049",
   "metadata": {},
   "outputs": [
    {
     "name": "stdout",
     "output_type": "stream",
     "text": [
      "Accuracy of Logistic Regression classifier on training set: 0.34\n"
     ]
    }
   ],
   "source": [
    "print('Accuracy of Logistic Regression classifier on training set: {:.2f}'\n",
    "     .format(logit.score(X_train, y_train)))"
   ]
  },
  {
   "cell_type": "code",
   "execution_count": null,
   "id": "38a35a63",
   "metadata": {},
   "outputs": [],
   "source": []
  }
 ],
 "metadata": {
  "kernelspec": {
   "display_name": "Python 3 (ipykernel)",
   "language": "python",
   "name": "python3"
  },
  "language_info": {
   "codemirror_mode": {
    "name": "ipython",
    "version": 3
   },
   "file_extension": ".py",
   "mimetype": "text/x-python",
   "name": "python",
   "nbconvert_exporter": "python",
   "pygments_lexer": "ipython3",
   "version": "3.9.7"
  }
 },
 "nbformat": 4,
 "nbformat_minor": 5
}
